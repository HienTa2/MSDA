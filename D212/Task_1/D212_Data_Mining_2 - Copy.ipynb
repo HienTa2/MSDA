{
 "cells": [
  {
   "cell_type": "markdown",
   "id": "6a16f522-4e7c-4fdb-88f0-304386483bd7",
   "metadata": {},
   "source": [
    "#### A1: Research Question\n",
    "My research question:\n",
    "How can customer segmentation based on service usage patterns, monthly charges, and bandwidth usage reveal distinct groups for targeted engagement strategies?\n",
    "\n",
    "This question guides our exploration into the dataset, aiming to uncover natural clusters within the customer base. By focusing on service usage metrics, I seek to understand how different customer behaviors and spending patterns can inform more personalized engagement efforts."
   ]
  },
  {
   "cell_type": "markdown",
   "id": "19f728ea-eceb-4116-a732-d9b59d14bd81",
   "metadata": {},
   "source": [
    "#### A2: Goal of the Data Analysis\n",
    "\n",
    "The primary goal of this analysis is to segment the customer base into distinct groups based on quantifiable service usage metrics. For example Tenure, MonthlyCharges, and Bandwidth_GB_Year. This segmentation will facilitate the development of customized marketing and retention strategies by shedding light on the unique characteristics and needs of each customer group. By achieving a deeper understanding of our customer segments, we can enhance engagement, reduce churn, and improve overall satisfaction."
   ]
  },
  {
   "attachments": {},
   "cell_type": "markdown",
   "id": "cd86efdd-f015-432e-9308-1619c45fc726",
   "metadata": {},
   "source": [
    "#### B1: Analysis Explanation with Expected Outcomes\n",
    "\n",
    "* Analysis\n",
    "\n",
    "The k-means clustering technique is chosen for its efficiency and effectiveness in grouping data into clusters based on feature similarity. In the context of the selected data set, k-means will analyze the continuous variables such as Tenure, MonthlyCharges, and Bandwidth_GB_Year to identify inherent groupings among customers. The algorithm iterates through the data, assigning each point to the nearest cluster centroid based on Euclidean distance, then recalculates the centroids until the assignment of points to clusters no longer changes significantly.\n",
    "\n",
    "* Expected Outcomes\n",
    "\n",
    "The expected outcome is the identification of distinct customer segments that share similar characteristics in terms of service usage and spending patterns. For example, one cluster might represent long-term customers with high bandwidth usage and monthly charges, indicating high engagement and potentially higher loyalty. Another cluster could represent newer customers with lower usage and charges, potentially at a higher risk of churn. These insights will enable targeted marketing and retention strategies tailored to each segment's needs and behaviors.\n",
    "\n",
    "Analytics Vidhya. (2021, January)"
   ]
  },
  {
   "cell_type": "markdown",
   "id": "225bf474-3a33-433e-a6cd-847658623df9",
   "metadata": {},
   "source": [
    "#### B2: Assumption of the Clustering Technique\n",
    "\n",
    "One fundamental assumption of the k-means clustering technique is that the clusters are spherical and of similar size. This assumption means the technique expects the variance of the distribution of each variable to be the same for all clusters, and that points are equally likely to be in all directions from the center. This can impact the performance of k-means on data with clusters of different sizes and densities.\n",
    "\n",
    "Scikit-learn developers. (n.d.). K-means. Scikit-learn: Machine Learning in Python."
   ]
  },
  {
   "cell_type": "markdown",
   "id": "2d6bb967-085e-4cf3-a5dc-b9c80a222c8c",
   "metadata": {},
   "source": [
    "#### B3: Packages or Libraries for Python\n",
    "\n",
    "* NumPy: Provides support for efficient operations on large multi-dimensional arrays and matrices, which is essential for handling the dataset and performing calculations for k-means clustering.\n",
    "\n",
    "* Pandas: Useful for data manipulation and analysis. It offers data structures and operations for manipulating numerical tables and time series, crucial for preprocessing the dataset before clustering.\n",
    "\n",
    "* Scikit-learn (sklearn): A key library for machine learning and data mining tasks. It includes a robust implementation of the k-means clustering algorithm, along with utilities for pre-processing data, evaluating models, and selecting parameters. Scikit-learn will be used to perform the clustering and analyze the characteristics of each customer segment.\n",
    "\n",
    "* Matplotlib and Seaborn: These libraries are used for data visualization, which is crucial for interpreting the results of the k-means clustering. They will help visualize the clusters and their characteristics, making it easier to understand the segmentation and derive insights."
   ]
  },
  {
   "cell_type": "markdown",
   "id": "cf3093d8-16d7-481e-8bd9-d168358b5af9",
   "metadata": {},
   "source": [
    "#### C1: Data Preprocessing Goal\n",
    "\n",
    "One crucial data preprocessing goal for clustering using k-means is to standardize or normalize the continuous variables in the dataset. Since k-means clustering uses Euclidean distance to assign points to clusters, variables with larger scales can disproportionately influence the clustering outcome. Standardizing these variables ensures that each one contributes equally to the analysis, allowing for more meaningful groupings based on the similarity of customer characteristics rather than differences in variable scales.\n",
    "\n",
    "Scikit-learn developers. (n.d.). K-means. Scikit-learn: Machine Learning in Python."
   ]
  },
  {
   "cell_type": "markdown",
   "id": "fb741793-c577-48f4-b280-cfd513cc64fd",
   "metadata": {},
   "source": [
    "#### C2: Variables for Analysis\n",
    "\n",
    "I will be using the below variables for my initial analysis:\n",
    "\n",
    "* Tenure (Continuous): Number of months the customer has been with the provider.\n",
    "* MonthlyCharge (Continuous): The average monthly charge to the customer.\n",
    "* Bandwidth_GB_Year (Continuous): The average amount of data used in GB per year by the customer.\n",
    "\n",
    "These continuous variables are selected based on their potential to reveal customer usage patterns and engagement levels with the telecom provider's services."
   ]
  },
  {
   "cell_type": "markdown",
   "id": "f0de9a4f-1ba7-45bc-b0bd-77f7a447c380",
   "metadata": {},
   "source": [
    "#### C3: Data Preparation"
   ]
  },
  {
   "cell_type": "code",
   "execution_count": 9,
   "id": "9c793447-da6e-4503-ae14-309e621671ce",
   "metadata": {},
   "outputs": [
    {
     "name": "stdout",
     "output_type": "stream",
     "text": [
      "<class 'pandas.core.frame.DataFrame'>\n",
      "RangeIndex: 10000 entries, 0 to 9999\n",
      "Data columns (total 50 columns):\n",
      " #   Column                Non-Null Count  Dtype  \n",
      "---  ------                --------------  -----  \n",
      " 0   CaseOrder             10000 non-null  int64  \n",
      " 1   Customer_id           10000 non-null  object \n",
      " 2   Interaction           10000 non-null  object \n",
      " 3   UID                   10000 non-null  object \n",
      " 4   City                  10000 non-null  object \n",
      " 5   State                 10000 non-null  object \n",
      " 6   County                10000 non-null  object \n",
      " 7   Zip                   10000 non-null  int64  \n",
      " 8   Lat                   10000 non-null  float64\n",
      " 9   Lng                   10000 non-null  float64\n",
      " 10  Population            10000 non-null  int64  \n",
      " 11  Area                  10000 non-null  object \n",
      " 12  TimeZone              10000 non-null  object \n",
      " 13  Job                   10000 non-null  object \n",
      " 14  Children              10000 non-null  int64  \n",
      " 15  Age                   10000 non-null  int64  \n",
      " 16  Income                10000 non-null  float64\n",
      " 17  Marital               10000 non-null  object \n",
      " 18  Gender                10000 non-null  object \n",
      " 19  Churn                 10000 non-null  object \n",
      " 20  Outage_sec_perweek    10000 non-null  float64\n",
      " 21  Email                 10000 non-null  int64  \n",
      " 22  Contacts              10000 non-null  int64  \n",
      " 23  Yearly_equip_failure  10000 non-null  int64  \n",
      " 24  Techie                10000 non-null  object \n",
      " 25  Contract              10000 non-null  object \n",
      " 26  Port_modem            10000 non-null  object \n",
      " 27  Tablet                10000 non-null  object \n",
      " 28  InternetService       7871 non-null   object \n",
      " 29  Phone                 10000 non-null  object \n",
      " 30  Multiple              10000 non-null  object \n",
      " 31  OnlineSecurity        10000 non-null  object \n",
      " 32  OnlineBackup          10000 non-null  object \n",
      " 33  DeviceProtection      10000 non-null  object \n",
      " 34  TechSupport           10000 non-null  object \n",
      " 35  StreamingTV           10000 non-null  object \n",
      " 36  StreamingMovies       10000 non-null  object \n",
      " 37  PaperlessBilling      10000 non-null  object \n",
      " 38  PaymentMethod         10000 non-null  object \n",
      " 39  Tenure                10000 non-null  float64\n",
      " 40  MonthlyCharge         10000 non-null  float64\n",
      " 41  Bandwidth_GB_Year     10000 non-null  float64\n",
      " 42  Item1                 10000 non-null  int64  \n",
      " 43  Item2                 10000 non-null  int64  \n",
      " 44  Item3                 10000 non-null  int64  \n",
      " 45  Item4                 10000 non-null  int64  \n",
      " 46  Item5                 10000 non-null  int64  \n",
      " 47  Item6                 10000 non-null  int64  \n",
      " 48  Item7                 10000 non-null  int64  \n",
      " 49  Item8                 10000 non-null  int64  \n",
      "dtypes: float64(7), int64(16), object(27)\n",
      "memory usage: 3.8+ MB\n"
     ]
    }
   ],
   "source": [
    "# see attached codes\n",
    "\n",
    "import numpy as np\n",
    "import pandas as pd\n",
    "import matplotlib.pyplot as plt\n",
    "import seaborn as sns\n",
    "from sklearn.cluster import KMeans\n",
    "from sklearn.metrics import silhouette_score\n",
    "from sklearn.preprocessing import StandardScaler\n",
    "\n",
    "# Loading the dataset\n",
    "df = pd.read_csv(r'C:\\Users\\Hien Ta\\OneDrive\\WGU\\MSDA\\D212\\Task_1\\churn_clean.csv')\n",
    "\n",
    "# Check data types, number of values and size of dataframe\n",
    "df.info()\n"
   ]
  },
  {
   "cell_type": "code",
   "execution_count": 10,
   "id": "f990a4a3-2099-4a95-bedd-632e89ec532b",
   "metadata": {},
   "outputs": [
    {
     "name": "stdout",
     "output_type": "stream",
     "text": [
      "CaseOrder                  0\n",
      "Customer_id                0\n",
      "Interaction                0\n",
      "UID                        0\n",
      "City                       0\n",
      "State                      0\n",
      "County                     0\n",
      "Zip                        0\n",
      "Lat                        0\n",
      "Lng                        0\n",
      "Population                 0\n",
      "Area                       0\n",
      "TimeZone                   0\n",
      "Job                        0\n",
      "Children                   0\n",
      "Age                        0\n",
      "Income                     0\n",
      "Marital                    0\n",
      "Gender                     0\n",
      "Churn                      0\n",
      "Outage_sec_perweek         0\n",
      "Email                      0\n",
      "Contacts                   0\n",
      "Yearly_equip_failure       0\n",
      "Techie                     0\n",
      "Contract                   0\n",
      "Port_modem                 0\n",
      "Tablet                     0\n",
      "InternetService         2129\n",
      "Phone                      0\n",
      "Multiple                   0\n",
      "OnlineSecurity             0\n",
      "OnlineBackup               0\n",
      "DeviceProtection           0\n",
      "TechSupport                0\n",
      "StreamingTV                0\n",
      "StreamingMovies            0\n",
      "PaperlessBilling           0\n",
      "PaymentMethod              0\n",
      "Tenure                     0\n",
      "MonthlyCharge              0\n",
      "Bandwidth_GB_Year          0\n",
      "Item1                      0\n",
      "Item2                      0\n",
      "Item3                      0\n",
      "Item4                      0\n",
      "Item5                      0\n",
      "Item6                      0\n",
      "Item7                      0\n",
      "Item8                      0\n",
      "dtype: int64\n"
     ]
    }
   ],
   "source": [
    "# Identifying Missing Values\n",
    "missing_values = df.isnull().sum()\n",
    "\n",
    "print(missing_values)"
   ]
  },
  {
   "cell_type": "code",
   "execution_count": 11,
   "id": "fa9a5270-6004-4c9c-b52d-4c4c8ab3e61f",
   "metadata": {},
   "outputs": [],
   "source": [
    "# Fill missing value in 'InternetService' with 'None'\n",
    "df['InternetService'].fillna('None', inplace=True)"
   ]
  },
  {
   "cell_type": "code",
   "execution_count": 12,
   "id": "80160eb5-582d-4066-9575-7812d4bfafa7",
   "metadata": {},
   "outputs": [
    {
     "name": "stdout",
     "output_type": "stream",
     "text": [
      "CaseOrder               0\n",
      "Customer_id             0\n",
      "Interaction             0\n",
      "UID                     0\n",
      "City                    0\n",
      "State                   0\n",
      "County                  0\n",
      "Zip                     0\n",
      "Lat                     0\n",
      "Lng                     0\n",
      "Population              0\n",
      "Area                    0\n",
      "TimeZone                0\n",
      "Job                     0\n",
      "Children                0\n",
      "Age                     0\n",
      "Income                  0\n",
      "Marital                 0\n",
      "Gender                  0\n",
      "Churn                   0\n",
      "Outage_sec_perweek      0\n",
      "Email                   0\n",
      "Contacts                0\n",
      "Yearly_equip_failure    0\n",
      "Techie                  0\n",
      "Contract                0\n",
      "Port_modem              0\n",
      "Tablet                  0\n",
      "InternetService         0\n",
      "Phone                   0\n",
      "Multiple                0\n",
      "OnlineSecurity          0\n",
      "OnlineBackup            0\n",
      "DeviceProtection        0\n",
      "TechSupport             0\n",
      "StreamingTV             0\n",
      "StreamingMovies         0\n",
      "PaperlessBilling        0\n",
      "PaymentMethod           0\n",
      "Tenure                  0\n",
      "MonthlyCharge           0\n",
      "Bandwidth_GB_Year       0\n",
      "Item1                   0\n",
      "Item2                   0\n",
      "Item3                   0\n",
      "Item4                   0\n",
      "Item5                   0\n",
      "Item6                   0\n",
      "Item7                   0\n",
      "Item8                   0\n",
      "dtype: int64\n"
     ]
    }
   ],
   "source": [
    "# Identifying Missing Values\n",
    "missing_values = df.isnull().sum()\n",
    "\n",
    "print(missing_values)"
   ]
  },
  {
   "cell_type": "code",
   "execution_count": 13,
   "id": "5238c788-6e45-4e02-a69b-d4b243579fc1",
   "metadata": {},
   "outputs": [
    {
     "data": {
      "text/plain": [
       "Tenure               0\n",
       "MonthlyCharge        0\n",
       "Bandwidth_GB_Year    0\n",
       "dtype: int64"
      ]
     },
     "execution_count": 13,
     "metadata": {},
     "output_type": "execute_result"
    }
   ],
   "source": [
    "# see attached codes\n",
    "\n",
    "# selecting relevant features\n",
    "features = df[['Tenure', 'MonthlyCharge', 'Bandwidth_GB_Year']]\n",
    "\n",
    "# check for missing values, it should be clear, but we want to double check\n",
    "features.isnull().sum()\n"
   ]
  },
  {
   "cell_type": "code",
   "execution_count": 14,
   "id": "bce8dd94-abc2-414d-89ca-f8be9775cb9f",
   "metadata": {},
   "outputs": [
    {
     "data": {
      "text/plain": [
       "<Axes: >"
      ]
     },
     "execution_count": 14,
     "metadata": {},
     "output_type": "execute_result"
    },
    {
     "data": {
      "image/png": "[encoded data removed]",
      "text/plain": [
       "<Figure size 640x480 with 1 Axes>"
      ]
     },
     "metadata": {},
     "output_type": "display_data"
    }
   ],
   "source": [
    "# see attached codes\n",
    "\n",
    "# standardize the variables\n",
    "scaler = StandardScaler()\n",
    "\n",
    "features_scaled = scaler.fit_transform(features)\n",
    "\n",
    "# checking for outliers\n",
    "sns.boxplot(data=features_scaled)"
   ]
  },
  {
   "cell_type": "markdown",
   "id": "bcbd5000-5153-4b40-9d39-b944f61c3bcc",
   "metadata": {},
   "source": [
    "#### C4: Clean Dataset"
   ]
  },
  {
   "cell_type": "code",
   "execution_count": 15,
   "id": "54f179ca-dbae-42c3-bd9a-3b4ff5dcd59c",
   "metadata": {},
   "outputs": [],
   "source": [
    "\n",
    "\n",
    "# Creating a DataFrame from the scaled features for convenience\n",
    "features_scaled_df = pd.DataFrame(features_scaled, columns=['Tenure', 'MonthlyCharge', 'Bandwidth_GB_Year'])\n",
    "\n",
    "\n",
    "# Saving the cleaned dataset\n",
    "cleaned_file_path = (r'C:\\Users\\Hien Ta\\OneDrive\\WGU\\MSDA\\D212\\Task_1\\churn_clean_After.csv')\n",
    "features_scaled_df.to_csv(cleaned_file_path, index=False)\n"
   ]
  },
  {
   "cell_type": "markdown",
   "id": "4d09b7b7-c7cc-4763-bb08-9d4d07fe44b2",
   "metadata": {},
   "source": [
    "#### D1: Determining the Optimal Number of Clusters\n",
    "\n",
    "To determine the optimal number of clusters in the dataset, the Elbow Method is commonly used. This method involves plotting the within-cluster sum of squares (WCSS) against the number of clusters. The \"elbow\" point in the plot, where the rate of decrease sharply changes, indicates the optimal number of clusters. This point is where adding more clusters does not significantly improve the fit of the model. The WCSS measures the variance within each cluster, and we aim to minimize it, but without having to use too many clusters.\n",
    "\n",
    "The method for determining the optimal number of clusters is as follows:\n",
    "\n",
    "a. Compute k-means clustering for a range of cluster values (e.g., 1 to 10).\n",
    "\n",
    "b. For each solution, calculate the WCSS.\n",
    "\n",
    "c. Plot the number of clusters against the WCSS.\n",
    "\n",
    "d. Identify the \"elbow\" in the plot, where the WCSS begins to decrease more slowly.\n",
    "\n",
    "Analytics Vidhya. (2021, January). In-depth Intuition of K-Means Clustering Algorithm in Machine Learning. "
   ]
  },
  {
   "cell_type": "markdown",
   "id": "282546e7-9b3a-4fd7-b811-1eaa55a8f48d",
   "metadata": {},
   "source": [
    "#### D2: Code for Clustering Analysis Technique"
   ]
  },
  {
   "cell_type": "code",
   "execution_count": 16,
   "id": "49a96408-9aeb-4fc7-add2-ac9d1ae44e6f",
   "metadata": {},
   "outputs": [
    {
     "data": {
      "image/png": "[encoded data removed]",
      "text/plain": [
       "<Figure size 1000x800 with 1 Axes>"
      ]
     },
     "metadata": {},
     "output_type": "display_data"
    }
   ],
   "source": [
    "# see attached codes\n",
    "\n",
    "# using features_scaled that I standardized in the above section\n",
    "wcss = []\n",
    "for i in range(1, 11):\n",
    "    kmeans = KMeans(n_clusters=i, init='k-means++', random_state=42)\n",
    "    kmeans.fit(features_scaled)\n",
    "    wcss.append(kmeans.inertia_)\n",
    "\n",
    "# Plotting the Elbow Method graph\n",
    "plt.figure(figsize=(10, 8))\n",
    "plt.plot(range(1, 11), wcss, marker='o', linestyle='--')\n",
    "plt.title('Elbow Method')\n",
    "plt.xlabel('Number of clusters')\n",
    "plt.ylabel('WCSS')\n",
    "plt.show()"
   ]
  },
  {
   "cell_type": "code",
   "execution_count": 17,
   "id": "aa792260-1abb-40ab-be90-5b2594e37fa2",
   "metadata": {},
   "outputs": [
    {
     "name": "stdout",
     "output_type": "stream",
     "text": [
      "For n_clusters = 4 The average silhouette_score is : 0.4755168269101212\n"
     ]
    }
   ],
   "source": [
    "# Optimal number of clusters is found to be 4 based on the Elbow plot above.\n",
    "optimal_clusters = 4\n",
    "kmeans_final = KMeans(n_clusters=optimal_clusters, init='k-means++', random_state=42)\n",
    "y_kmeans = kmeans_final.fit_predict(features_scaled)\n",
    "\n",
    "# Add the cluster assignments back to the features_scaled_df\n",
    "features_scaled_df['Cluster'] = y_kmeans\n",
    "\n",
    "# Calculate the silhouette score using features_scaled that I standardized in the above section\n",
    "silhouette_avg = silhouette_score(features_scaled, y_kmeans)\n",
    "print(\"For n_clusters =\", optimal_clusters, \"The average silhouette_score is :\", silhouette_avg)\n",
    "\n",
    "# Save the DataFrame with the cluster for further analyzing the clustered data \n",
    "clustered_data_path = (r'C:\\Users\\Hien Ta\\OneDrive\\WGU\\MSDA\\D212\\Task_1\\churn_clean_Cluster.csv')\n",
    "features_scaled_df.to_csv(clustered_data_path, index=False)\n"
   ]
  },
  {
   "cell_type": "markdown",
   "id": "78aa618f-7e2a-4514-bf2d-7af824467755",
   "metadata": {},
   "source": [
    "Explanation:\n",
    "\n",
    "* The silhouette_score function computes the average silhouette coefficient of all samples, which is a measure of how similar an object is to its own cluster compared to other clusters. The best value is 1 and the worst value is -1. Values near 0 indicate overlapping clusters.\n",
    "*    The silhouette_score requires at least two clusters to compute. A higher silhouette score indicates better-defined clusters."
   ]
  },
  {
   "cell_type": "markdown",
   "id": "a4cc6d72-b4ec-4c18-b50b-f35e9f567238",
   "metadata": {},
   "source": [
    "#### E1: Quality of the Clusters Created\n",
    "\n",
    "The clusters were assessed using visual inspection of scatter plots for the different pairings of the variables Tenure, MonthlyCharge, and Bandwidth_GB_Year against the cluster assignments. These visualizations indicated that the clusters were distinct with minimal overlap, suggesting a good quality of clustering. The distinct clusters likely represent varying customer profiles, such as long-term versus new customers, high versus low service usage, and differing levels of monthly spending."
   ]
  },
  {
   "cell_type": "markdown",
   "id": "8d66a11a-285a-423c-adf5-976b3e9f184c",
   "metadata": {},
   "source": [
    "#### E2: Implications of Clustering Analysis\n",
    "\n",
    "The clustering analysis revealed four distinct customer segments within the telecommunications data. These segments can be characterized by differences in tenure, monthly charges, and bandwidth usage. This implies that the telecom company can develop targeted strategies for customer retention by addressing the specific needs and characteristics of each segment. For example, a segment of newer customers with lower usage might be targeted with special offers to increase their service usage and loyalty, while long-term, high-spending customers might be offered loyalty rewards or premium service options."
   ]
  },
  {
   "cell_type": "markdown",
   "id": "55f76301-5dbf-42ab-9eee-6afca04b72e9",
   "metadata": {},
   "source": [
    "#### E3: Limitation\n",
    "\n",
    "A key limitation of this analysis is the assumption of spherical clusters of similar size, inherent to the k-means clustering technique. This assumption may not hold true for all datasets, potentially impacting the accuracy of the clustering where the actual clusters may have different sizes and densities. Additionally, the analysis focused only on continuous variables, possibly overlooking insights from categorical variables that could further define customer segments."
   ]
  },
  {
   "cell_type": "markdown",
   "id": "b7fcf99c-a698-4dd9-b06d-060fc8e25d65",
   "metadata": {},
   "source": [
    "#### E4: Recommendation\n",
    "\n",
    "Based on the analysis results, it is recommended that the telecommunications company adopts a differentiated customer retention strategy tailored to the identified segments. For segments identified as at higher risk of churn, such as those with lower tenure and usage, targeted engagement strategies like personalized offers, enhanced customer support, and incentives for increased service usage may be effective. For segments showing high engagement and longer tenure, maintaining satisfaction through reliability, service quality, and loyalty rewards can further reduce churn rates. Implementing these strategies requires a nuanced understanding of each segment's needs and preferences, as derived from the clustering analysis."
   ]
  },
  {
   "cell_type": "markdown",
   "id": "24891dd0-6194-4c44-a5c1-a195c882db26",
   "metadata": {},
   "source": [
    "#### F: Panopto Video\n",
    "\n",
    "https://wgu.hosted.panopto.com/Panopto/Pages/Viewer.aspx?id=6fd3b6da-a9e4-47d3-be2b-b14701789de5"
   ]
  },
  {
   "cell_type": "markdown",
   "id": "c2965ecd-75b6-4bf0-ba71-7d6fb752c53b",
   "metadata": {},
   "source": [
    "#### G: Sources\n",
    "\n",
    "Analytics Vidhya. (2021, January). In-depth Intuition of K-Means Clustering Algorithm in Machine Learning. https://www.analyticsvidhya.com/blog/2021/01/in-depth-intuition-of-k-means-clustering-algorithm-in-machine-learning/\n",
    "\n",
    "Scikit-learn developers. (n.d.). K-means. Scikit-learn: Machine Learning in Python. https://scikit-learn.org/stable/modules/clustering.html#k-means"
   ]
  }
 ],
 "metadata": {
  "kernelspec": {
   "display_name": "Python 3 (ipykernel)",
   "language": "python",
   "name": "python3"
  },
  "language_info": {
   "codemirror_mode": {
    "name": "ipython",
    "version": 3
   },
   "file_extension": ".py",
   "mimetype": "text/x-python",
   "name": "python",
   "nbconvert_exporter": "python",
   "pygments_lexer": "ipython3",
   "version": "3.11.1"
  }
 },
 "nbformat": 4,
 "nbformat_minor": 5
}
