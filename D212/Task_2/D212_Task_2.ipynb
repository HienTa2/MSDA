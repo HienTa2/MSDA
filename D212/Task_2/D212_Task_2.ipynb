{
 "cells": [
  {
   "cell_type": "markdown",
   "id": "3904a7e6-68b9-4b26-8fca-e7184729c2f5",
   "metadata": {},
   "source": [
    "#### A1: PCA Question\n",
    "\n",
    "Which principal factors contribute the most variance in our customer data, and can these factors provide insights into characteristics associated with customer churn?"
   ]
  },
  {
   "cell_type": "markdown",
   "id": "3d3c1ee8-5b0b-4356-b5b9-806f2e38069e",
   "metadata": {},
   "source": [
    "#### A2: Goal of the Data Analysis\n",
    "\n",
    "The goal of this analysis is to o reduce the dimensionality of our customer dataset, thereby identifying key variables that account for the majority of variance. This will help in uncovering patterns that could be associated with churn, providing a basis for more targeted customer retention strategies to the executives."
   ]
  },
  {
   "cell_type": "markdown",
   "id": "6e9cf715-c93b-41c8-b073-753e5d2a5ce8",
   "metadata": {},
   "source": [
    "#### B1: PCA Analysis Explanation\n",
    "\n",
    "PCA will works by converting my original set of possibly correlated variables into a smaller set of uncorrelated variables called principal components.The primary goal of this analysis is to utilize Principal Component Analysis (PCA) for dimensionality reduction within our churn dataset. By identifying the principal factors that account for the majority of variance, we aim to simplify the dataset, making it more manageable for further analysis. Recognizing PCA's limitations, I understand that while it does not directly predict or reveal specific patterns associated with customer churn, it effectively identifies key variables that merit further investigation through targeted analytical models. Subsequently, insights derived from these principal factors will guide the development of more nuanced customer retention strategies by highlighting potential areas of focus. This step is foundational, setting the stage for applying predictive modeling techniques to directly examine the relationship between these key factors and customer churn.\n",
    "\n",
    "Jolliffe, I. T., & Cadima, J. (2016)."
   ]
  },
  {
   "cell_type": "markdown",
   "id": "05c80f94-27dd-45cc-a9dc-16e4fd2fc512",
   "metadata": {},
   "source": [
    "#### B2: Assumption of PCA\n",
    "\n",
    "One key assumption of PCA is that linear relationships exist among the variables. PCA assumes that the principal components are a linear combination of the original features and that these components capture the underlying structure of the data through linear correlations. This assumption is critical for the effective application of PCA, as it relies on maximizing variance through linear transformations.\n",
    "\n",
    "Jolliffe, I. T., & Cadima, J. (2016)."
   ]
  },
  {
   "cell_type": "code",
   "execution_count": 19,
   "id": "09ffd6ae-0632-4f98-9624-282e05b2eb93",
   "metadata": {},
   "outputs": [
    {
     "name": "stdout",
     "output_type": "stream",
     "text": [
      "<class 'pandas.core.frame.DataFrame'>\n",
      "RangeIndex: 10000 entries, 0 to 9999\n",
      "Data columns (total 50 columns):\n",
      " #   Column                Non-Null Count  Dtype  \n",
      "---  ------                --------------  -----  \n",
      " 0   CaseOrder             10000 non-null  int64  \n",
      " 1   Customer_id           10000 non-null  object \n",
      " 2   Interaction           10000 non-null  object \n",
      " 3   UID                   10000 non-null  object \n",
      " 4   City                  10000 non-null  object \n",
      " 5   State                 10000 non-null  object \n",
      " 6   County                10000 non-null  object \n",
      " 7   Zip                   10000 non-null  int64  \n",
      " 8   Lat                   10000 non-null  float64\n",
      " 9   Lng                   10000 non-null  float64\n",
      " 10  Population            10000 non-null  int64  \n",
      " 11  Area                  10000 non-null  object \n",
      " 12  TimeZone              10000 non-null  object \n",
      " 13  Job                   10000 non-null  object \n",
      " 14  Children              10000 non-null  int64  \n",
      " 15  Age                   10000 non-null  int64  \n",
      " 16  Income                10000 non-null  float64\n",
      " 17  Marital               10000 non-null  object \n",
      " 18  Gender                10000 non-null  object \n",
      " 19  Churn                 10000 non-null  object \n",
      " 20  Outage_sec_perweek    10000 non-null  float64\n",
      " 21  Email                 10000 non-null  int64  \n",
      " 22  Contacts              10000 non-null  int64  \n",
      " 23  Yearly_equip_failure  10000 non-null  int64  \n",
      " 24  Techie                10000 non-null  object \n",
      " 25  Contract              10000 non-null  object \n",
      " 26  Port_modem            10000 non-null  object \n",
      " 27  Tablet                10000 non-null  object \n",
      " 28  InternetService       7871 non-null   object \n",
      " 29  Phone                 10000 non-null  object \n",
      " 30  Multiple              10000 non-null  object \n",
      " 31  OnlineSecurity        10000 non-null  object \n",
      " 32  OnlineBackup          10000 non-null  object \n",
      " 33  DeviceProtection      10000 non-null  object \n",
      " 34  TechSupport           10000 non-null  object \n",
      " 35  StreamingTV           10000 non-null  object \n",
      " 36  StreamingMovies       10000 non-null  object \n",
      " 37  PaperlessBilling      10000 non-null  object \n",
      " 38  PaymentMethod         10000 non-null  object \n",
      " 39  Tenure                10000 non-null  float64\n",
      " 40  MonthlyCharge         10000 non-null  float64\n",
      " 41  Bandwidth_GB_Year     10000 non-null  float64\n",
      " 42  Item1                 10000 non-null  int64  \n",
      " 43  Item2                 10000 non-null  int64  \n",
      " 44  Item3                 10000 non-null  int64  \n",
      " 45  Item4                 10000 non-null  int64  \n",
      " 46  Item5                 10000 non-null  int64  \n",
      " 47  Item6                 10000 non-null  int64  \n",
      " 48  Item7                 10000 non-null  int64  \n",
      " 49  Item8                 10000 non-null  int64  \n",
      "dtypes: float64(7), int64(16), object(27)\n",
      "memory usage: 3.8+ MB\n"
     ]
    }
   ],
   "source": [
    "import numpy as np\n",
    "import pandas as pd\n",
    "import matplotlib.pyplot as plt\n",
    "import seaborn as sns\n",
    "from sklearn.preprocessing import StandardScaler\n",
    "from sklearn.decomposition import PCA\n",
    "\n",
    "# Loading the dataset\n",
    "df = pd.read_csv(r'C:\\Users\\Hien Ta\\OneDrive\\WGU\\MSDA\\D212\\Task_2\\churn_clean.csv')\n",
    "\n",
    "# Check data types, number of values and size of dataframe\n",
    "df.info()"
   ]
  },
  {
   "cell_type": "code",
   "execution_count": 20,
   "id": "35111f70-2d11-4bbb-9614-3e95a903b272",
   "metadata": {},
   "outputs": [
    {
     "name": "stdout",
     "output_type": "stream",
     "text": [
      "CaseOrder                  0\n",
      "Customer_id                0\n",
      "Interaction                0\n",
      "UID                        0\n",
      "City                       0\n",
      "State                      0\n",
      "County                     0\n",
      "Zip                        0\n",
      "Lat                        0\n",
      "Lng                        0\n",
      "Population                 0\n",
      "Area                       0\n",
      "TimeZone                   0\n",
      "Job                        0\n",
      "Children                   0\n",
      "Age                        0\n",
      "Income                     0\n",
      "Marital                    0\n",
      "Gender                     0\n",
      "Churn                      0\n",
      "Outage_sec_perweek         0\n",
      "Email                      0\n",
      "Contacts                   0\n",
      "Yearly_equip_failure       0\n",
      "Techie                     0\n",
      "Contract                   0\n",
      "Port_modem                 0\n",
      "Tablet                     0\n",
      "InternetService         2129\n",
      "Phone                      0\n",
      "Multiple                   0\n",
      "OnlineSecurity             0\n",
      "OnlineBackup               0\n",
      "DeviceProtection           0\n",
      "TechSupport                0\n",
      "StreamingTV                0\n",
      "StreamingMovies            0\n",
      "PaperlessBilling           0\n",
      "PaymentMethod              0\n",
      "Tenure                     0\n",
      "MonthlyCharge              0\n",
      "Bandwidth_GB_Year          0\n",
      "Item1                      0\n",
      "Item2                      0\n",
      "Item3                      0\n",
      "Item4                      0\n",
      "Item5                      0\n",
      "Item6                      0\n",
      "Item7                      0\n",
      "Item8                      0\n",
      "dtype: int64\n"
     ]
    }
   ],
   "source": [
    "# Identifying Missing Values\n",
    "missing_values = df.isnull().sum()\n",
    "\n",
    "print(missing_values)"
   ]
  },
  {
   "cell_type": "code",
   "execution_count": 21,
   "id": "025aa740-ecf6-428e-ae1e-4959f799c597",
   "metadata": {},
   "outputs": [],
   "source": [
    "# Fill missing value in 'InternetService' with 'None'\n",
    "df['InternetService'].fillna('None', inplace=True)"
   ]
  },
  {
   "cell_type": "code",
   "execution_count": 22,
   "id": "4f173537-dfce-4e4a-ae8d-f3ccc0859d4b",
   "metadata": {},
   "outputs": [
    {
     "name": "stdout",
     "output_type": "stream",
     "text": [
      "CaseOrder               0\n",
      "Customer_id             0\n",
      "Interaction             0\n",
      "UID                     0\n",
      "City                    0\n",
      "State                   0\n",
      "County                  0\n",
      "Zip                     0\n",
      "Lat                     0\n",
      "Lng                     0\n",
      "Population              0\n",
      "Area                    0\n",
      "TimeZone                0\n",
      "Job                     0\n",
      "Children                0\n",
      "Age                     0\n",
      "Income                  0\n",
      "Marital                 0\n",
      "Gender                  0\n",
      "Churn                   0\n",
      "Outage_sec_perweek      0\n",
      "Email                   0\n",
      "Contacts                0\n",
      "Yearly_equip_failure    0\n",
      "Techie                  0\n",
      "Contract                0\n",
      "Port_modem              0\n",
      "Tablet                  0\n",
      "InternetService         0\n",
      "Phone                   0\n",
      "Multiple                0\n",
      "OnlineSecurity          0\n",
      "OnlineBackup            0\n",
      "DeviceProtection        0\n",
      "TechSupport             0\n",
      "StreamingTV             0\n",
      "StreamingMovies         0\n",
      "PaperlessBilling        0\n",
      "PaymentMethod           0\n",
      "Tenure                  0\n",
      "MonthlyCharge           0\n",
      "Bandwidth_GB_Year       0\n",
      "Item1                   0\n",
      "Item2                   0\n",
      "Item3                   0\n",
      "Item4                   0\n",
      "Item5                   0\n",
      "Item6                   0\n",
      "Item7                   0\n",
      "Item8                   0\n",
      "dtype: int64\n"
     ]
    }
   ],
   "source": [
    "# Identifying Missing Values\n",
    "missing_values = df.isnull().sum()\n",
    "\n",
    "print(missing_values)"
   ]
  },
  {
   "cell_type": "markdown",
   "id": "c8008421-ff4b-44cb-90eb-17de57dc1f83",
   "metadata": {},
   "source": [
    "#### C1: Continuous Variables\n",
    "\n",
    "For the PCA analysis to address the question of identifying customer segments at the highest risk of churn and their common characteristics, I selected the following continuous variables from the dataset:\n",
    "\n",
    "* Population: Reflects the population within the dataset.\n",
    "* Age: The age of the customer.\n",
    "* Income: The annual income of the customer.\n",
    "* Outage_sec_perweek: Average seconds per week of system outages in the customer's area.\n",
    "* Email: The number of emails sent to the customer in the last year, including both marketing and correspondence.\n",
    "* Contacts: How many times the customer contacted technical support.\n",
    "* Yearly_equip_failure: The number of times the customer’s equipment failed and needed resetting/replacement in the past year.\n",
    "* Tenure: The number of months the customer has been with the provider.\n",
    "* MonthlyCharge: The average monthly amount charged to the customer.\n",
    "e* Bandwidth_GB_Year: The average annual data usage in GB by the customer. For new customers."
   ]
  },
  {
   "cell_type": "markdown",
   "id": "ace6a13d-95a8-4029-bfae-0420216354fb",
   "metadata": {},
   "source": [
    "#### C2: Standardize Variable and Saving Dataset"
   ]
  },
  {
   "cell_type": "code",
   "execution_count": 23,
   "id": "40464f75-35dd-4464-9d80-9d664043923f",
   "metadata": {},
   "outputs": [],
   "source": [
    "# Selecting the continuous variables for PCA\n",
    "continuous_vars = ['Population', 'Age', 'Income', 'Outage_sec_perweek', 'Email', 'Contacts', \n",
    "                   'Yearly_equip_failure', 'Tenure', 'MonthlyCharge', 'Bandwidth_GB_Year']\n",
    "\n",
    "\n",
    "\n",
    "# Standardizing the continuous variables\n",
    "scaler = StandardScaler()\n",
    "data_standardized = scaler.fit_transform(df[continuous_vars])\n",
    "\n",
    "# Converting the standardized data back to a dataframe for readability\n",
    "data_standardized_df = pd.DataFrame(data_standardized, columns=continuous_vars)\n",
    "\n",
    "# Adding the feature names\n",
    "feature_names = df[continuous_vars].columns.tolist()\n",
    "\n",
    "# Saving the cleaned dataset\n",
    "cleaned_file_path = (r'C:\\Users\\Hien Ta\\OneDrive\\WGU\\MSDA\\D212\\Task_2\\churn_clean_After.csv')\n",
    "data_standardized_df.to_csv(cleaned_file_path, index=False)"
   ]
  },
  {
   "cell_type": "markdown",
   "id": "fdf04793-9bd5-4091-bcba-bc1ba77fa04a",
   "metadata": {},
   "source": [
    "#### D1: Matrix Of All The Principal Components"
   ]
  },
  {
   "cell_type": "code",
   "execution_count": 26,
   "id": "996078b0-8ff3-4738-8be1-32149419172c",
   "metadata": {},
   "outputs": [
    {
     "name": "stdout",
     "output_type": "stream",
     "text": [
      "Number of principal components to keep based on the Kaiser criterion: 5\n",
      "\n",
      "\n",
      "       Population   Age  Income  Outage_sec_perweek  Email  Contacts  \\\n",
      "PC_1        -0.01  0.00    0.00                0.01  -0.02      0.00   \n",
      "PC_2        -0.39 -0.22    0.34               -0.40  -0.44     -0.36   \n",
      "PC_3         0.37 -0.18   -0.15               -0.42   0.44     -0.32   \n",
      "PC_4         0.32  0.72    0.08               -0.34  -0.06      0.26   \n",
      "PC_5        -0.23  0.09    0.57               -0.32   0.10      0.40   \n",
      "PC_6         0.25 -0.40    0.31                0.38   0.01      0.48   \n",
      "PC_7         0.37 -0.01    0.63                0.12   0.29     -0.41   \n",
      "PC_8         0.56 -0.05    0.03               -0.00  -0.72     -0.10   \n",
      "PC_9         0.20 -0.48   -0.16               -0.54   0.02      0.37   \n",
      "PC_10       -0.00  0.02   -0.00                0.00   0.00     -0.00   \n",
      "\n",
      "       Yearly_equip_failure  Tenure  MonthlyCharge  Bandwidth_GB_Year  \n",
      "PC_1                   0.02    0.71           0.04               0.71  \n",
      "PC_2                   0.29    0.01          -0.35              -0.01  \n",
      "PC_3                  -0.33    0.04          -0.46               0.02  \n",
      "PC_4                   0.36    0.02          -0.24              -0.02  \n",
      "PC_5                  -0.57   -0.00           0.12               0.01  \n",
      "PC_6                   0.16    0.02          -0.53               0.00  \n",
      "PC_7                   0.26   -0.02           0.35               0.00  \n",
      "PC_8                  -0.38   -0.01           0.11              -0.00  \n",
      "PC_9                   0.33   -0.03           0.41               0.01  \n",
      "PC_10                 -0.00   -0.71          -0.05               0.71  \n",
      "\n",
      "\n",
      "----------------------------------------------------------------------------------------------------\n",
      "\n",
      "\n",
      "   PC_1  PC_2  PC_3  PC_4  PC_5  PC_6  PC_7  PC_8  PC_9  PC_10\n",
      "0 -1.52  1.17 -0.38  0.62 -0.81 -1.19 -0.11 -0.20 -0.10  -0.05\n",
      "1 -1.65 -0.13 -0.73 -1.45 -1.42 -0.69  0.95  0.00  1.06  -0.05\n",
      "2 -0.91  0.90 -0.41 -0.21 -1.69 -0.48 -0.52  0.17 -0.17   0.08\n",
      "3 -0.94 -1.53  0.42 -0.42 -0.32  1.59 -0.88 -0.54 -0.89   0.12\n",
      "4 -1.92 -0.58  0.16  1.95  0.22  0.12 -0.01 -1.44  0.19  -0.08\n"
     ]
    }
   ],
   "source": [
    "# Initialize PCA\n",
    "pca = PCA()\n",
    "\n",
    "# Fit PCA on the standardized data\n",
    "pca.fit(data_standardized)\n",
    "\n",
    "# The matrix of all principal components\n",
    "principal_components_matrix = pca.components_\n",
    "\n",
    "# Kaiser criterion (eigenvalues > 1)\n",
    "num_components_kaiser = np.sum(pca.explained_variance_ > 1)\n",
    "\n",
    "print(f\"Number of principal components to keep based on the Kaiser criterion: {num_components_kaiser}\")\n",
    "print('\\n')\n",
    "\n",
    "# Convert the matrix of principal components to a DataFrame\n",
    "principal_components_df = pd.DataFrame( principal_components_matrix,\n",
    "                                         columns=feature_names,  # Use the feature names for the columns\n",
    "                                         index=[f'PC_{i+1}' for i in range(principal_components_matrix.shape[0])])\n",
    "\n",
    "# Transform the standardized data to principal components\n",
    "data_in_principal_components = pca.transform(data_standardized)\n",
    "\n",
    "# Convert the transformed data to a DataFrame with principal components as columns\n",
    "transformed_data_df = pd.DataFrame(data_in_principal_components,\n",
    "                                         columns=[f'PC_{i+1}' for i in range(data_in_principal_components.shape[1])])\n",
    "\n",
    "print(principal_components_df.round(2))\n",
    "print('\\n')\n",
    "print(\"-\" * 100)\n",
    "print('\\n')\n",
    "print(transformed_data_df.head().round(2))  # Display the first five rows of the transformed data\n",
    "\n",
    "# Scikit-learn developers. (n.d.)\n",
    "# W3Schools.com. (n.d.)"
   ]
  },
  {
   "cell_type": "markdown",
   "id": "6facb68a-7d8f-4856-b92b-15d9fc56fbff",
   "metadata": {},
   "source": [
    "#### D2: Total Number of Principal Components"
   ]
  },
  {
   "cell_type": "code",
   "execution_count": 28,
   "id": "c8d27663-604a-4a08-a3bf-e4eec188d73d",
   "metadata": {},
   "outputs": [
    {
     "data": {
      "image/png": "[encoded data removed]",
      "text/plain": [
       "<Figure size 1000x600 with 1 Axes>"
      ]
     },
     "metadata": {},
     "output_type": "display_data"
    }
   ],
   "source": [
    "# Generate scree plot\n",
    "plt.figure(figsize=(10, 6))\n",
    "plt.plot(range(1, len(pca.explained_variance_ratio_) + 1), pca.explained_variance_ratio_, marker='o')\n",
    "plt.title('Scree Plot')\n",
    "plt.xlabel('Number of Principal Components')\n",
    "plt.ylabel('Explained Variance by Each Component')\n",
    "plt.axhline(y=1/len(pca.explained_variance_ratio_), color='r', linestyle='--', label='Kaiser Criterion (eigenvalue > 1)')\n",
    "plt.grid(True)\n",
    "plt.legend()\n",
    "plt.show()\n",
    "\n",
    "# Scikit-learn developers. (n.d.)\n",
    "# W3Schools.com. (n.d.)"
   ]
  },
  {
   "cell_type": "markdown",
   "id": "93ca65df-0c29-43df-a4fd-7df83ec78440",
   "metadata": {},
   "source": [
    "#### D3: Variance of each of the principal components"
   ]
  },
  {
   "cell_type": "code",
   "execution_count": 29,
   "id": "7181b39c-7fb3-471f-a7ee-df8798c5810c",
   "metadata": {},
   "outputs": [
    {
     "name": "stdout",
     "output_type": "stream",
     "text": [
      "PC1: 0.1994 or 19.94% of the total variance\n",
      "PC2: 0.1042 or 10.42% of the total variance\n",
      "PC3: 0.1020 or 10.20% of the total variance\n",
      "PC4: 0.1015 or 10.15% of the total variance\n",
      "PC5: 0.1002 or 10.02% of the total variance\n"
     ]
    }
   ],
   "source": [
    "# Extract the variance explained by the number of principal components as determined by the Kaiser criterion\n",
    "variance_by_component = pca.explained_variance_ratio_[:num_components_kaiser]\n",
    "for i, variance in enumerate(variance_by_component, 1):\n",
    "    print(f\"PC{i}: {variance:.4f} or {variance * 100:.2f}% of the total variance\")\n",
    "\n"
   ]
  },
  {
   "cell_type": "markdown",
   "id": "31b53ccc-cb59-4c83-8b3c-b93f00b28283",
   "metadata": {},
   "source": [
    "#### D4: Identify the Total Variance Captured by the Principal Components Identified in Part D2"
   ]
  },
  {
   "cell_type": "code",
   "execution_count": 30,
   "id": "16d0a027-646e-4afe-8fb4-c33e57cd2ff1",
   "metadata": {},
   "outputs": [
    {
     "name": "stdout",
     "output_type": "stream",
     "text": [
      "\n",
      "Total variance captured by the first 5 components: 0.6072 or 60.72%\n"
     ]
    }
   ],
   "source": [
    "# Calculate the total variance captured by the first 5 principal components\n",
    "total_variance_captured = np.sum(variance_by_component)\n",
    "print(f\"\\nTotal variance captured by the first 5 components: {total_variance_captured:.4f} or {total_variance_captured * 100:.2f}%\")\n"
   ]
  },
  {
   "cell_type": "markdown",
   "id": "91ac22b3-a183-444a-b7e3-dc62e69813da",
   "metadata": {},
   "source": [
    "#### D5: Summary of Analysis\n",
    "\n",
    "Based on the Kaiser criterion, I retained the first 5 principal components for my PCA analysis. These components together explain 60.72% of the total variance in the dataset. This indicate a significant reduction in dimensionality while still capturing a substantial amount of information. The variance explained by each of the components highlights their relative importance, with PC1 explaining the most variance and PC5 the least of the selected components.\n",
    "\n",
    "This reduction enables me to focus on the most meaningful patterns in the data, which can be particularly useful for further analysis. For example clustering or predictive modeling. By understanding the major drivers of variance captured by these components, we can gain insights into underlying factors that might be influencing customer behavior. I have pinpointed the most influential variables shaping customer behavior. This reduction highlights critical factors like tenure, monthlycharges, and usage patterns, suggesting their significant role in customer differentiation and potential churn. By analyzing these components, I identify key customer attributes that contribute to variance, enabling targeted retention strategies. Furthermore by providing a foundation for deeper insights into customer behavior and guiding more effective decision making to mitigate churn risk. This analysis not only aids in simplifying complex datasets, but also in uncovering potential areas for strategic decision making for the executives.\n"
   ]
  },
  {
   "cell_type": "markdown",
   "id": "e5ab653b-7317-4cf8-ae47-25e86576a2eb",
   "metadata": {},
   "source": [
    "#### E1: Third-Party Source\n",
    "\n",
    "No third-party source used"
   ]
  },
  {
   "cell_type": "markdown",
   "id": "a0a20a55-acdc-4235-83b9-70ce4492d917",
   "metadata": {},
   "source": [
    "#### F1: Source\n",
    "\n",
    "Jolliffe, I. T., & Cadima, J. (2016). Principal component analysis: a review and recent developments. Philosophical Transactions of the Royal Society A: Mathematical, Physical and Engineering Sciences, 374(2065), 20150202. https://doi.org/10.1098/rsta.2015.0202\n",
    "\n",
    "Scikit-learn developers. (n.d.). Principal component analysis (PCA). scikit-learn. Retrieved April 3, 2024, from https://scikit-learn.org/stable/modules/generated/sklearn.decomposition.PCA.html\n",
    "\n",
    "W3Schools.com. (n.d.). Python Machine Learning - Getting Started. Retrieved April 3, 2024, from https://www.w3schools.com/python/python_ml_getting_started.asp\n"
   ]
  }
 ],
 "metadata": {
  "kernelspec": {
   "display_name": "Python 3 (ipykernel)",
   "language": "python",
   "name": "python3"
  },
  "language_info": {
   "codemirror_mode": {
    "name": "ipython",
    "version": 3
   },
   "file_extension": ".py",
   "mimetype": "text/x-python",
   "name": "python",
   "nbconvert_exporter": "python",
   "pygments_lexer": "ipython3",
   "version": "3.11.1"
  }
 },
 "nbformat": 4,
 "nbformat_minor": 5
}
