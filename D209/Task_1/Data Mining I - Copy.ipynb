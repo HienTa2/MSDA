{
 "cells": [
  {
   "cell_type": "markdown",
   "id": "da70b9bf-5b24-4764-b4bb-82e1a3d3cc95",
   "metadata": {},
   "source": [
    "#### A1: Research Question\n",
    "\n",
    "My research question is \"What are the significant predictors of customer churn in the telecommunications industry, and how do they impact the likelihood of a customer discontinuing service?\". This question aims to uncover which variables most significantly influence a customer's decision to leave the telecommunications company. I will be using KNN, which allow me to predict churn based on the similarity of customers' characteristics to those of customers who have either churned or remained."
   ]
  },
  {
   "cell_type": "markdown",
   "id": "929e33fd-55b3-4196-9da4-320c98c0ca99",
   "metadata": {},
   "source": [
    "#### A2: Goals of Analysis\n",
    "\n",
    "The primary goal of this data analysis, utilizing the KNN classification method, is to accurately predict customer churn by identifying the most significant predictors and understanding their proximity impact on churn likelihood. This involves:\n",
    "\n",
    "*    Identifying Key Features: Determining which customer demographic, account, and service-related features most closely associate with churned customers by analyzing the characteristics of neighbors (similar customers).\n",
    "*    Understanding Customer Segments: Exploring the similarities among customers who churn to uncover specific patterns or segments that are at a higher risk of churn.\n",
    "*    Informing Retention Strategies: Using insights from the analysis to inform targeted customer retention strategies. By understanding the profiles of customers at risk of churn, the company can develop tailored interventions aimed at retaining these customers."
   ]
  },
  {
   "cell_type": "markdown",
   "id": "3f9f3c70-3d99-450b-9795-dd0ec6a51756",
   "metadata": {},
   "source": [
    "#### B1: Justification for Classification Method\n",
    "\n",
    "The k-nearest neighbors (KNN) classification method predicts a data point's class based on the majority class among its 'k' nearest neighbors. By calculating distances between customers using features like demographics, service usage, and account details, KNN identifies the 'k' closest customers to any given customer. The value of 'k' can be adjusted to optimize classification performance. Through the majority showing, a customer's classification as likely to churn or not is determined by the class prevalence among their nearest neighbors. This approach assumes that similar customers exhibit similar behaviors, such as the likelihood of discontinuing service.\n",
    "\n",
    "Applying KNN to the telecommunications churn dataset is expected to reveal significant patterns and similarities between customers who churn and those who do not. This will enable the prediction of churn likelihood for each customer based on the characteristics of their nearest neighbors, offering a nuanced understanding of the behavioral patterns influencing churn. By identifying these patterns, KNN facilitates a more targeted approach to customer retention, aiming to reduce churn by addressing the most impactful factors identified through the analysis.\n",
    "\n",
    "(sklearn documentation for KNeighborsClassifier)"
   ]
  },
  {
   "cell_type": "markdown",
   "id": "73ee696c-b12a-4ebc-ba5f-5475c16dcb7a",
   "metadata": {},
   "source": [
    "#### B2: Assumption of KNN\n",
    "\n",
    "One fundamental assumption of the KNN algorithm is that similar things exist in close proximity. In other words, it assumes that customers with similar characteristics. In terms of demographics, service subscriptions, account features, etc. are likely to exhibit similar behaviors such as churning or staying. This assumption underlies the method's reliance on the proximity of data points to classify them, assuming that the closer data points in the feature space are more likely to belong to the same class as their neighbors."
   ]
  },
  {
   "cell_type": "markdown",
   "id": "a1c5289a-5a38-49b2-9e02-45e27582d86c",
   "metadata": {},
   "source": [
    "#### B3: Packages or Libaries for Python\n",
    "\n",
    "I will be using Python for my programming language and the following packages or libraries are recommended:\n",
    "\n",
    "*    Scikit-learn (sklearn): This is a primary library for machine learning in Python and includes efficient tools for data mining and data analysis. It offers a straightforward and efficient implementation of the KNN algorithm through its KNeighborsClassifier class. Scikit-learn also provides additional functionalities for preprocessing data, splitting the dataset into training and test sets, and evaluating model performance, making it a comprehensive choice for implementing KNN.\n",
    "\n",
    "*    Pandas: Ideal for data manipulation and analysis, Pandas provides flexible data structures designed to make it easy to work with structured (tabular, multidimensional, potentially heterogeneous) data. It's particularly useful for reading, writing, and cleaning the dataset before applying KNN.\n",
    "\n",
    "*    NumPy: This package supports large, multi-dimensional arrays and matrices, along with a collection of mathematical functions to operate on these arrays. NumPy can be utilized for any numerical operations needed during the data preprocessing phase or feature engineering before applying KNN.\n",
    "\n",
    "*    Matplotlib and Seaborn: These libraries are recommended for data visualization. They can be used to visualize the dataset and the results of the KNN analysis, such as plotting the distribution of customers who churn versus those who do not, or visualizing the decision boundaries created by the KNN model.\n",
    "\n",
    "(sklearn documentation for KNeighborsClassifier)"
   ]
  },
  {
   "cell_type": "markdown",
   "id": "022538fa-2308-40da-b105-00400ec26d80",
   "metadata": {},
   "source": [
    "#### C1: Data Preparation for KNN\n",
    "\n",
    "A crucial data preprocessing goal for utilizing the k-nearest neighbors (KNN) algorithm is to normalize or standardize the numeric variables in the dataset. This step is essential because KNN calculates the distance between data points using the feature values. If the variables are on different scales, those with larger scales will disproportionately influence the distance calculations.This potentially could lead to biased results. Standardization ensures that each variables contributes equally to the distance computations, allowing for a more accurate identification of the 'k' nearest neighbors based on their similarities across all areas."
   ]
  },
  {
   "cell_type": "markdown",
   "id": "09b175ad-ae4f-4406-b1dd-001f9aab1172",
   "metadata": {},
   "source": [
    "#### C2: Variables Selection\n",
    "\n",
    "* Numeric: Tenure (months a customer has stayed with the provider)\n",
    "* Numeric: MonthlyCharge (the amount charged to the customer monthly)\n",
    "* Numeric: Bandwidth_GB_Year (average amount of data used in GB by the customer in a year)\n",
    "* Numeric: Outage_sec_perweek (average number of seconds per week of system outages)\n",
    "* Categorical: Contract (month-to-month, one year, two year)\n",
    "* Categorical: OnlineSecurity (yes, no)\n",
    "* Categorical: TechSupport (yes, no)\n",
    "* Categorical: InternetService (DSL, fiber optic, None)\n",
    "* Categorical: PaymentMethod (electronic check, mailed check, bank transfer, credit card)"
   ]
  },
  {
   "cell_type": "markdown",
   "id": "8e5e887e-d9f9-4688-b0d6-0c100a0479a1",
   "metadata": {},
   "source": [
    "#### C3: Data Preparation"
   ]
  },
  {
   "cell_type": "code",
   "execution_count": 14,
   "id": "cf0c9cd1-94c0-4c10-8047-6c558ddc1443",
   "metadata": {},
   "outputs": [
    {
     "name": "stdout",
     "output_type": "stream",
     "text": [
      "<class 'pandas.core.frame.DataFrame'>\n",
      "RangeIndex: 10000 entries, 0 to 9999\n",
      "Data columns (total 50 columns):\n",
      " #   Column                Non-Null Count  Dtype  \n",
      "---  ------                --------------  -----  \n",
      " 0   CaseOrder             10000 non-null  int64  \n",
      " 1   Customer_id           10000 non-null  object \n",
      " 2   Interaction           10000 non-null  object \n",
      " 3   UID                   10000 non-null  object \n",
      " 4   City                  10000 non-null  object \n",
      " 5   State                 10000 non-null  object \n",
      " 6   County                10000 non-null  object \n",
      " 7   Zip                   10000 non-null  int64  \n",
      " 8   Lat                   10000 non-null  float64\n",
      " 9   Lng                   10000 non-null  float64\n",
      " 10  Population            10000 non-null  int64  \n",
      " 11  Area                  10000 non-null  object \n",
      " 12  TimeZone              10000 non-null  object \n",
      " 13  Job                   10000 non-null  object \n",
      " 14  Children              10000 non-null  int64  \n",
      " 15  Age                   10000 non-null  int64  \n",
      " 16  Income                10000 non-null  float64\n",
      " 17  Marital               10000 non-null  object \n",
      " 18  Gender                10000 non-null  object \n",
      " 19  Churn                 10000 non-null  object \n",
      " 20  Outage_sec_perweek    10000 non-null  float64\n",
      " 21  Email                 10000 non-null  int64  \n",
      " 22  Contacts              10000 non-null  int64  \n",
      " 23  Yearly_equip_failure  10000 non-null  int64  \n",
      " 24  Techie                10000 non-null  object \n",
      " 25  Contract              10000 non-null  object \n",
      " 26  Port_modem            10000 non-null  object \n",
      " 27  Tablet                10000 non-null  object \n",
      " 28  InternetService       7871 non-null   object \n",
      " 29  Phone                 10000 non-null  object \n",
      " 30  Multiple              10000 non-null  object \n",
      " 31  OnlineSecurity        10000 non-null  object \n",
      " 32  OnlineBackup          10000 non-null  object \n",
      " 33  DeviceProtection      10000 non-null  object \n",
      " 34  TechSupport           10000 non-null  object \n",
      " 35  StreamingTV           10000 non-null  object \n",
      " 36  StreamingMovies       10000 non-null  object \n",
      " 37  PaperlessBilling      10000 non-null  object \n",
      " 38  PaymentMethod         10000 non-null  object \n",
      " 39  Tenure                10000 non-null  float64\n",
      " 40  MonthlyCharge         10000 non-null  float64\n",
      " 41  Bandwidth_GB_Year     10000 non-null  float64\n",
      " 42  Item1                 10000 non-null  int64  \n",
      " 43  Item2                 10000 non-null  int64  \n",
      " 44  Item3                 10000 non-null  int64  \n",
      " 45  Item4                 10000 non-null  int64  \n",
      " 46  Item5                 10000 non-null  int64  \n",
      " 47  Item6                 10000 non-null  int64  \n",
      " 48  Item7                 10000 non-null  int64  \n",
      " 49  Item8                 10000 non-null  int64  \n",
      "dtypes: float64(7), int64(16), object(27)\n",
      "memory usage: 3.8+ MB\n"
     ]
    }
   ],
   "source": [
    "# see attached codes\n",
    "\n",
    "from sklearn.neighbors import KNeighborsClassifier\n",
    "from sklearn.model_selection import train_test_split\n",
    "from sklearn.preprocessing import StandardScaler\n",
    "from sklearn.metrics import classification_report, confusion_matrix\n",
    "from sklearn.metrics import roc_curve, roc_auc_score, classification_report\n",
    "from sklearn.feature_selection import SelectKBest, f_classif\n",
    "from sklearn.pipeline import Pipeline\n",
    "from sklearn.metrics import accuracy_score\n",
    "import pandas as pd \n",
    "import numpy as np \n",
    "import matplotlib.pyplot as plt\n",
    "import seaborn as sns\n",
    "\n",
    "\n",
    "\n",
    "# Step 1\n",
    "# Loading the dataset\n",
    "df = pd.read_csv(r'C:\\Users\\Hien Ta\\OneDrive\\WGU\\MSDA\\D209\\Task_1\\churn_clean.csv')\n",
    "\n",
    "# Check data\n",
    "df.info()"
   ]
  },
  {
   "cell_type": "code",
   "execution_count": 15,
   "id": "1c4f5f1f-d228-42bd-a1e3-11a0ad7d994c",
   "metadata": {},
   "outputs": [
    {
     "name": "stdout",
     "output_type": "stream",
     "text": [
      "CaseOrder                  0\n",
      "Customer_id                0\n",
      "Interaction                0\n",
      "UID                        0\n",
      "City                       0\n",
      "State                      0\n",
      "County                     0\n",
      "Zip                        0\n",
      "Lat                        0\n",
      "Lng                        0\n",
      "Population                 0\n",
      "Area                       0\n",
      "TimeZone                   0\n",
      "Job                        0\n",
      "Children                   0\n",
      "Age                        0\n",
      "Income                     0\n",
      "Marital                    0\n",
      "Gender                     0\n",
      "Churn                      0\n",
      "Outage_sec_perweek         0\n",
      "Email                      0\n",
      "Contacts                   0\n",
      "Yearly_equip_failure       0\n",
      "Techie                     0\n",
      "Contract                   0\n",
      "Port_modem                 0\n",
      "Tablet                     0\n",
      "InternetService         2129\n",
      "Phone                      0\n",
      "Multiple                   0\n",
      "OnlineSecurity             0\n",
      "OnlineBackup               0\n",
      "DeviceProtection           0\n",
      "TechSupport                0\n",
      "StreamingTV                0\n",
      "StreamingMovies            0\n",
      "PaperlessBilling           0\n",
      "PaymentMethod              0\n",
      "Tenure                     0\n",
      "MonthlyCharge              0\n",
      "Bandwidth_GB_Year          0\n",
      "Item1                      0\n",
      "Item2                      0\n",
      "Item3                      0\n",
      "Item4                      0\n",
      "Item5                      0\n",
      "Item6                      0\n",
      "Item7                      0\n",
      "Item8                      0\n",
      "dtype: int64\n"
     ]
    }
   ],
   "source": [
    "# Identifying Missing Values\n",
    "missing_values = df.isnull().sum()\n",
    "\n",
    "print(missing_values)"
   ]
  },
  {
   "cell_type": "code",
   "execution_count": 16,
   "id": "90858c36-6d4f-46fd-b97d-517620290fff",
   "metadata": {},
   "outputs": [],
   "source": [
    "# Fill missing value in 'InternetService' with 'None'\n",
    "df['InternetService'].fillna('None', inplace=True)"
   ]
  },
  {
   "cell_type": "code",
   "execution_count": 17,
   "id": "755f4f5b-7b6c-42d7-8b9e-b982e9de5eee",
   "metadata": {},
   "outputs": [
    {
     "name": "stdout",
     "output_type": "stream",
     "text": [
      "CaseOrder               0\n",
      "Customer_id             0\n",
      "Interaction             0\n",
      "UID                     0\n",
      "City                    0\n",
      "State                   0\n",
      "County                  0\n",
      "Zip                     0\n",
      "Lat                     0\n",
      "Lng                     0\n",
      "Population              0\n",
      "Area                    0\n",
      "TimeZone                0\n",
      "Job                     0\n",
      "Children                0\n",
      "Age                     0\n",
      "Income                  0\n",
      "Marital                 0\n",
      "Gender                  0\n",
      "Churn                   0\n",
      "Outage_sec_perweek      0\n",
      "Email                   0\n",
      "Contacts                0\n",
      "Yearly_equip_failure    0\n",
      "Techie                  0\n",
      "Contract                0\n",
      "Port_modem              0\n",
      "Tablet                  0\n",
      "InternetService         0\n",
      "Phone                   0\n",
      "Multiple                0\n",
      "OnlineSecurity          0\n",
      "OnlineBackup            0\n",
      "DeviceProtection        0\n",
      "TechSupport             0\n",
      "StreamingTV             0\n",
      "StreamingMovies         0\n",
      "PaperlessBilling        0\n",
      "PaymentMethod           0\n",
      "Tenure                  0\n",
      "MonthlyCharge           0\n",
      "Bandwidth_GB_Year       0\n",
      "Item1                   0\n",
      "Item2                   0\n",
      "Item3                   0\n",
      "Item4                   0\n",
      "Item5                   0\n",
      "Item6                   0\n",
      "Item7                   0\n",
      "Item8                   0\n",
      "dtype: int64\n"
     ]
    }
   ],
   "source": [
    "# Identifying Missing Values\n",
    "missing_values = df.isnull().sum()\n",
    "\n",
    "print(missing_values)"
   ]
  },
  {
   "cell_type": "code",
   "execution_count": 18,
   "id": "354b9318-3452-4672-aece-1af14631e96a",
   "metadata": {},
   "outputs": [],
   "source": [
    "# Step 2 Set and Filter the Selected Variables\n",
    "\n",
    "categorical_vars = ['Contract', 'OnlineSecurity', 'TechSupport', 'InternetService', 'PaymentMethod']\n",
    "\n",
    "numerical_vars = ['Tenure', 'MonthlyCharge', 'Bandwidth_GB_Year', 'Outage_sec_perweek']\n"
   ]
  },
  {
   "cell_type": "code",
   "execution_count": 19,
   "id": "74c5beb5-c936-4866-a6eb-d491760b1d2c",
   "metadata": {},
   "outputs": [],
   "source": [
    "# Step 3 Encode the Categorical Variables\n",
    "\n",
    "# Applying one-hot encoding to categorical variables\n",
    "df_encoded = pd.get_dummies(df, columns=categorical_vars, drop_first=True)"
   ]
  },
  {
   "cell_type": "code",
   "execution_count": 20,
   "id": "e26861a8-33f2-4de3-818d-8cc3f218180b",
   "metadata": {},
   "outputs": [],
   "source": [
    "# Step 4 Standardize Numeric Variables\n",
    "\n",
    "# Initialize the StandardScaler\n",
    "scaler = StandardScaler()\n",
    "\n",
    "# Scale the numerical variables\n",
    "df_encoded[numerical_vars] = scaler.fit_transform(df_encoded[numerical_vars])\n"
   ]
  },
  {
   "cell_type": "code",
   "execution_count": 21,
   "id": "a55267a8-3ddb-442f-b531-d16e7453d0f7",
   "metadata": {},
   "outputs": [
    {
     "name": "stdout",
     "output_type": "stream",
     "text": [
      "<class 'pandas.core.frame.DataFrame'>\n",
      "RangeIndex: 10000 entries, 0 to 9999\n",
      "Data columns (total 54 columns):\n",
      " #   Column                                 Non-Null Count  Dtype  \n",
      "---  ------                                 --------------  -----  \n",
      " 0   CaseOrder                              10000 non-null  int64  \n",
      " 1   Customer_id                            10000 non-null  object \n",
      " 2   Interaction                            10000 non-null  object \n",
      " 3   UID                                    10000 non-null  object \n",
      " 4   City                                   10000 non-null  object \n",
      " 5   State                                  10000 non-null  object \n",
      " 6   County                                 10000 non-null  object \n",
      " 7   Zip                                    10000 non-null  int64  \n",
      " 8   Lat                                    10000 non-null  float64\n",
      " 9   Lng                                    10000 non-null  float64\n",
      " 10  Population                             10000 non-null  int64  \n",
      " 11  Area                                   10000 non-null  object \n",
      " 12  TimeZone                               10000 non-null  object \n",
      " 13  Job                                    10000 non-null  object \n",
      " 14  Children                               10000 non-null  int64  \n",
      " 15  Age                                    10000 non-null  int64  \n",
      " 16  Income                                 10000 non-null  float64\n",
      " 17  Marital                                10000 non-null  object \n",
      " 18  Gender                                 10000 non-null  object \n",
      " 19  Churn                                  10000 non-null  object \n",
      " 20  Outage_sec_perweek                     10000 non-null  float64\n",
      " 21  Email                                  10000 non-null  int64  \n",
      " 22  Contacts                               10000 non-null  int64  \n",
      " 23  Yearly_equip_failure                   10000 non-null  int64  \n",
      " 24  Techie                                 10000 non-null  object \n",
      " 25  Port_modem                             10000 non-null  object \n",
      " 26  Tablet                                 10000 non-null  object \n",
      " 27  Phone                                  10000 non-null  object \n",
      " 28  Multiple                               10000 non-null  object \n",
      " 29  OnlineBackup                           10000 non-null  object \n",
      " 30  DeviceProtection                       10000 non-null  object \n",
      " 31  StreamingTV                            10000 non-null  object \n",
      " 32  StreamingMovies                        10000 non-null  object \n",
      " 33  PaperlessBilling                       10000 non-null  object \n",
      " 34  Tenure                                 10000 non-null  float64\n",
      " 35  MonthlyCharge                          10000 non-null  float64\n",
      " 36  Bandwidth_GB_Year                      10000 non-null  float64\n",
      " 37  Item1                                  10000 non-null  int64  \n",
      " 38  Item2                                  10000 non-null  int64  \n",
      " 39  Item3                                  10000 non-null  int64  \n",
      " 40  Item4                                  10000 non-null  int64  \n",
      " 41  Item5                                  10000 non-null  int64  \n",
      " 42  Item6                                  10000 non-null  int64  \n",
      " 43  Item7                                  10000 non-null  int64  \n",
      " 44  Item8                                  10000 non-null  int64  \n",
      " 45  Contract_One year                      10000 non-null  int32  \n",
      " 46  Contract_Two Year                      10000 non-null  int32  \n",
      " 47  OnlineSecurity_Yes                     10000 non-null  int32  \n",
      " 48  TechSupport_Yes                        10000 non-null  int32  \n",
      " 49  InternetService_Fiber Optic            10000 non-null  int32  \n",
      " 50  InternetService_None                   10000 non-null  int32  \n",
      " 51  PaymentMethod_Credit Card (automatic)  10000 non-null  int32  \n",
      " 52  PaymentMethod_Electronic Check         10000 non-null  int32  \n",
      " 53  PaymentMethod_Mailed Check             10000 non-null  int32  \n",
      "dtypes: float64(7), int32(9), int64(16), object(22)\n",
      "memory usage: 3.8+ MB\n"
     ]
    }
   ],
   "source": [
    "bool_cols = ['Contract_One year', 'Contract_Two Year', 'OnlineSecurity_Yes', \n",
    "             'TechSupport_Yes','InternetService_Fiber Optic','InternetService_None', \n",
    "             'PaymentMethod_Credit Card (automatic)', 'PaymentMethod_Electronic Check', 'PaymentMethod_Mailed Check']\n",
    "\n",
    "columns_to_exclude =['Churn', 'CaseOrder', 'Customer_id', 'Interaction', 'UID', 'City', \n",
    "                     'State', 'County', 'Zip', 'Lat', 'Lng', 'Area', 'TimeZone', 'Job', \n",
    "                     'Marital', 'Gender', 'Techie', 'Port_modem', 'Tablet', 'Phone', \n",
    "                     'Multiple', 'OnlineBackup', 'DeviceProtection', 'StreamingTV', \n",
    "                     'StreamingMovies', 'PaperlessBilling', 'Item1', 'Item2', 'Item3', \n",
    "                     'Item4', 'Item5', 'Item6', 'Item7', 'Item8']\n",
    "\n",
    "# Convert boolean columns to integers\n",
    "df_encoded[bool_cols] = df_encoded[bool_cols].astype(bool).astype(int)\n",
    "\n",
    "X = df_encoded.drop(columns=columns_to_exclude, axis=1)\n",
    "y = df['Churn'].apply(lambda x: 1 if x == 'Yes' else 0)  # Encoding the target variable\n",
    "\n",
    "df_encoded.info()"
   ]
  },
  {
   "cell_type": "markdown",
   "id": "2640459e-017d-44e1-af73-5cb8f4dd8d36",
   "metadata": {},
   "source": [
    "#### C4: Copy of Clean Dataset"
   ]
  },
  {
   "cell_type": "code",
   "execution_count": 22,
   "id": "51378bd1-3135-426c-993d-8030ebcb20fb",
   "metadata": {},
   "outputs": [],
   "source": [
    "# Saving the cleaned dataset\n",
    "cleaned_file_path = (r'C:\\Users\\Hien Ta\\OneDrive\\WGU\\MSDA\\D209\\Task_1\\churn_clean_After.csv')\n",
    "X.to_csv(cleaned_file_path, index=False)"
   ]
  },
  {
   "cell_type": "markdown",
   "id": "9cff2de2-6dd3-4cee-b93f-865fd42a1ad5",
   "metadata": {},
   "source": [
    "#### D1: Splitting the Data and Making Copies"
   ]
  },
  {
   "cell_type": "code",
   "execution_count": 23,
   "id": "c83b8e93-ffb6-4c89-8eab-39c84b517f47",
   "metadata": {},
   "outputs": [],
   "source": [
    "# Step 5 Split Data into Training and Testing Sets\n",
    "\n",
    "X_train, X_test, y_train, y_test = train_test_split(X, y, test_size=0.2, random_state=42)\n",
    "\n",
    "# Saving the training and test sets to CSV files\n",
    "X_train.to_csv(r'C:\\Users\\Hien Ta\\OneDrive\\WGU\\MSDA\\D209\\Task_1\\churn_clean_X_train.csv', index=False)\n",
    "y_train.to_csv(r'C:\\Users\\Hien Ta\\OneDrive\\WGU\\MSDA\\D209\\Task_1\\churn_clean_y_train.csv', index=False)\n",
    "X_test.to_csv(r'C:\\Users\\Hien Ta\\OneDrive\\WGU\\MSDA\\D209\\Task_1\\churn_clean_X_test.csv', index=False)\n",
    "y_test.to_csv(r'C:\\Users\\Hien Ta\\OneDrive\\WGU\\MSDA\\D209\\Task_1\\churn_clean_y_test.csv', index=False)\n"
   ]
  },
  {
   "cell_type": "markdown",
   "id": "3a8e351e-98a7-491e-a779-998a94fab3f6",
   "metadata": {},
   "source": [
    "#### D2. Description of the Analysis Technique\n",
    "\n",
    "The analysis for predicting customer churn utilized the k-nearest neighbors (KNN) classification method. This is a versatile algorithm suitable for tackling both classification and regression tasks, though here it's specifically applied to a classification problem. KNN operates on the principle that similar instances tend to have similar outcomes, making it an ideal choice for predicting customer behavior based on historical data. By calculating the distance between instances in the feature space, KNN identifies the 'k' nearest instances to a given input and predicts its class based on the majority vote among these neighbors. This method is particularly effective for datasets where the relationship between variables and the target outcome is not linear. It relies on the proximity of instances in the feature space rather than assuming a specific form of the relationship.\n",
    "\n",
    "In implementing KNN, I considered including the choice of 'k'. This is the distance metric used (with Euclidean distance being the most common), and the voting mechanism to determine the class of the input instance. The algorithm's efficacy relies on these parameters, which can be fine-tuned based on the dataset's characteristics and the specific requirements of the analysis. The evaluation of the KNN model's performance involves analyzing metrics such as accuracy, precision, recall, and F1 score. This provide insights into the model's predictive capabilities and areas for improvement. These metrics are derived from the confusion matrix, a tool that summarizes the model's predictions in comparison to the actual outcomes, enabling a detailed assessment of its strengths and weaknesses in predicting customer churn.\n",
    "\n",
    "(Confusion-Matrix 2024)\n",
    "(Datacamp class material, 2024)\n",
    "(sklearn documentation for KNeighborsClassifier)"
   ]
  },
  {
   "cell_type": "code",
   "execution_count": 24,
   "id": "4ee8dadd-7f8e-4b05-9aa2-4fc54850ed44",
   "metadata": {},
   "outputs": [
    {
     "data": {
      "image/png": "[encoded data removed]",
      "text/plain": [
       "<Figure size 640x480 with 1 Axes>"
      ]
     },
     "metadata": {},
     "output_type": "display_data"
    },
    {
     "name": "stdout",
     "output_type": "stream",
     "text": [
      "The (AUC) score is: 0.91\n",
      "\n",
      "Confusion Matrix:\n",
      "[[1317  139]\n",
      " [ 147  397]]\n",
      "\n",
      "Accuracy: 0.857\n",
      "\n",
      "Classification Report:\n",
      "              precision    recall  f1-score   support\n",
      "\n",
      "           0       0.90      0.90      0.90      1456\n",
      "           1       0.74      0.73      0.74       544\n",
      "\n",
      "    accuracy                           0.86      2000\n",
      "   macro avg       0.82      0.82      0.82      2000\n",
      "weighted avg       0.86      0.86      0.86      2000\n",
      "\n"
     ]
    }
   ],
   "source": [
    "# see attached codes\n",
    "\n",
    "# Create a feature selection and classification pipeline\n",
    "pipeline = Pipeline([\n",
    "    ('feature_selection', SelectKBest(score_func=f_classif, k=10)),  # Select top 10 features\n",
    "    ('classification', KNeighborsClassifier(n_neighbors=5))\n",
    "])\n",
    "\n",
    "# Train the pipeline\n",
    "pipeline.fit(X_train, y_train)\n",
    "\n",
    "# Predict on the test set\n",
    "y_pred = pipeline.predict(X_test)\n",
    "\n",
    "# Predict probabilities for calculating ROC curve\n",
    "y_pred_prob = pipeline.predict_proba(X_test)[:, 1]\n",
    "\n",
    "# Generate ROC curve values\n",
    "fpr, tpr, thresholds = roc_curve(y_test, y_pred_prob)\n",
    "\n",
    "# Plot the ROC curve\n",
    "plt.plot([0, 1], [0, 1], 'k--')\n",
    "plt.plot(fpr, tpr, label='KNN after SelectKBest')\n",
    "plt.xlabel('False Positive Rate')\n",
    "plt.ylabel('True Positive Rate')\n",
    "plt.title('ROC Curve after Feature Selection')\n",
    "plt.legend(loc=\"lower right\")\n",
    "plt.show()\n",
    "\n",
    "\n",
    "# Print the AUC score\n",
    "print(f\"The (AUC) score is: {roc_auc_score(y_test, y_pred_prob):.2f}\\n\")\n",
    "\n",
    "# Evaluating the model\n",
    "print(\"Confusion Matrix:\")\n",
    "print(confusion_matrix(y_test, y_pred))\n",
    "\n",
    "# Calculating accuracy\n",
    "accuracy = accuracy_score(y_test, y_pred)\n",
    "print(\"\\nAccuracy:\", accuracy)\n",
    "\n",
    "print(\"\\nClassification Report:\")\n",
    "print(classification_report(y_test, y_pred))"
   ]
  },
  {
   "cell_type": "markdown",
   "id": "43425886-36ed-4723-9d7b-e5d8a6e409df",
   "metadata": {},
   "source": [
    "#### D3. Classification Analysis Codes"
   ]
  },
  {
   "cell_type": "code",
   "execution_count": 25,
   "id": "d2445ae9-c3dc-48ec-a7b6-939b301ddc0c",
   "metadata": {},
   "outputs": [
    {
     "data": {
      "image/png": "[encoded data removed]",
      "text/plain": [
       "<Figure size 640x480 with 1 Axes>"
      ]
     },
     "metadata": {},
     "output_type": "display_data"
    },
    {
     "name": "stdout",
     "output_type": "stream",
     "text": [
      "The (AUC) score is: 0.91\n",
      "\n",
      "Confusion Matrix:\n",
      "[[1317  139]\n",
      " [ 147  397]]\n",
      "\n",
      "Accuracy: 0.857\n",
      "\n",
      "Classification Report:\n",
      "              precision    recall  f1-score   support\n",
      "\n",
      "           0       0.90      0.90      0.90      1456\n",
      "           1       0.74      0.73      0.74       544\n",
      "\n",
      "    accuracy                           0.86      2000\n",
      "   macro avg       0.82      0.82      0.82      2000\n",
      "weighted avg       0.86      0.86      0.86      2000\n",
      "\n"
     ]
    }
   ],
   "source": [
    "# see attached codes\n",
    "\n",
    "# Create a feature selection and classification pipeline\n",
    "pipeline = Pipeline([\n",
    "    ('feature_selection', SelectKBest(score_func=f_classif, k=10)),  # Select top 10 features\n",
    "    ('classification', KNeighborsClassifier(n_neighbors=5))\n",
    "])\n",
    "\n",
    "# Train the pipeline\n",
    "pipeline.fit(X_train, y_train)\n",
    "\n",
    "# Predict on the test set\n",
    "y_pred = pipeline.predict(X_test)\n",
    "\n",
    "# Predict probabilities for calculating ROC curve\n",
    "y_pred_prob = pipeline.predict_proba(X_test)[:, 1]\n",
    "\n",
    "# Generate ROC curve values\n",
    "fpr, tpr, thresholds = roc_curve(y_test, y_pred_prob)\n",
    "\n",
    "# Plot the ROC curve\n",
    "plt.plot([0, 1], [0, 1], 'k--')\n",
    "plt.plot(fpr, tpr, label='KNN after SelectKBest')\n",
    "plt.xlabel('False Positive Rate')\n",
    "plt.ylabel('True Positive Rate')\n",
    "plt.title('ROC Curve after Feature Selection')\n",
    "plt.legend(loc=\"lower right\")\n",
    "plt.show()\n",
    "\n",
    "\n",
    "# Print the AUC score\n",
    "print(f\"The (AUC) score is: {roc_auc_score(y_test, y_pred_prob):.2f}\\n\")\n",
    "\n",
    "# Evaluating the model\n",
    "print(\"Confusion Matrix:\")\n",
    "print(confusion_matrix(y_test, y_pred))\n",
    "\n",
    "# Calculating accuracy\n",
    "accuracy = accuracy_score(y_test, y_pred)\n",
    "print(\"\\nAccuracy:\", accuracy)\n",
    "\n",
    "print(\"\\nClassification Report:\")\n",
    "print(classification_report(y_test, y_pred))"
   ]
  },
  {
   "cell_type": "markdown",
   "id": "f78e3675-83f6-4d77-b27f-4c844ae0c3ed",
   "metadata": {},
   "source": [
    "#### E1: Model Accuracy\n",
    "\n",
    "The accuracy of our KNN classification model stands at 0.857, indicating that 86% of the predictions made by the model were correct. This high level of accuracy suggests that the model is robust in distinguishing between customers who will churn and those who will not based on the provided features.\n",
    "\n",
    "The Area Under the Curve (AUC) for my model is 0.91. The AUC measures the entire two-dimensional area underneath the entire ROC curve from (0,0) to (1,1). With an AUC of 0.91, the model shows excellent prediction ability. It implies that there is a 91% chance that the model will be able to distinguish between a randomly chosen positive instance where a customer who will churn and a negative instance where a customer who will not churn. This high AUC score corroborates the accuracy metric, indicating that the model performs well across different threshold levels.\n",
    "\n"
   ]
  },
  {
   "cell_type": "markdown",
   "id": "385fc41f-2b0d-4426-9114-7f5fe2fe4b9e",
   "metadata": {},
   "source": [
    "#### E2: Results and Implications\n",
    "\n",
    "The results of the classification analysis suggest that the model is quite effective in predicting customer churn. The high accuracy and AUC indicate that the model can be trusted to make reliable predictions in most cases. Given the model's performance, it can be inferred that the selected features are meaningful indicators of churn behavior.\n",
    "\n",
    "It's important to note that while the model performs well overall. The precision and recall for the positive class 1 (churned customers) are lower than those for the negative class 0. This could imply that while the model is good at identifying customers who won't churn, it may still misclassify a notable number of customers who will churn. The implications for a telecommunications company could include missed opportunities for targeted interventions to retain customers at risk of churning."
   ]
  },
  {
   "cell_type": "markdown",
   "id": "a9bd69d9-fb2c-4d97-814a-0bb608c3ceb6",
   "metadata": {},
   "source": [
    "#### E3: Limitation of Data Analysis\n",
    "\n",
    "One limitation of the analysis is the potential for imbalanced class distribution, where the number of non-churned customers can significantly outnumber churned customers. This imbalance can bias the model towards predicting the majority class. Also, the model's reliance on proximity in feature space can be a limitation if the churn factors are complex and not easily captured. Another limitation could be the lack of temporal dynamics in the analysis. Customer behavior and risk of churn could evolve over time, and a static model may not capture these trends effectively."
   ]
  },
  {
   "cell_type": "markdown",
   "id": "7e83e585-36b6-4d6f-9238-f5c8ebc49ac5",
   "metadata": {},
   "source": [
    "#### E4: Recommendation\n",
    "\n",
    "Based on the results and implications of the analysis, I recommend that the telecommunications company undertake the following actions:\n",
    "\n",
    "*    Implement the Model: Utilize the KNN model to identify customers at high risk of churn. This can be integrated into the company's customer relationship management system to flag high-risk customers for further action.\n",
    "\n",
    "*    Focus on Customer Retention: Develop targeted retention strategies aimed at the segments identified as high risk. This could include personalized offers, improved customer service, or other incentives to enhance satisfaction and loyalty.\n",
    "\n",
    "*    Continuously Update the Model: Regularly update the model with new data to ensure its predictive power remains strong. Periodic retraining can help the model adapt to changing customer behaviors and market conditions.\n",
    "\n",
    "*    Address Model Limitations: Explore additional data sources that may provide a more dynamic view of customer behavior over time. Also, consider using other models or machine learning techniques that can handle imbalanced datasets more effectively.\n",
    "\n",
    "*    Monitor Model Performance: Continuously monitor the performance of the model in actual use and make adjustments as needed based on feedback and results.\n"
   ]
  },
  {
   "cell_type": "markdown",
   "id": "4e724dde-0284-4a77-9e78-c5fd8f2a445f",
   "metadata": {},
   "source": [
    "#### F: Panopto Recording\n",
    "\n",
    "https://wgu.hosted.panopto.com/Panopto/Pages/Viewer.aspx?id=0bd5cd37-fe2f-4829-90f0-b135003ae5d0\n"
   ]
  },
  {
   "cell_type": "markdown",
   "id": "2a6bda04-5739-4246-a983-cc4f06f9c612",
   "metadata": {},
   "source": [
    "#### G: Code References\n",
    "\n",
    "* I used some of the codes from my D208 Task 2.\n",
    "* (Datacamp class material, 2024): https://campus.datacamp.com/courses/supervised-learning-with-scikit-learn/classification-1?ex=1\n",
    "* (Dr. Elleh's webinar, nd): https://wgu.hosted.panopto.com/Panopto/Pages/Viewer.aspx?id=b73b6274-ef01-4d1b-a59f-aed100228a93\n"
   ]
  },
  {
   "cell_type": "markdown",
   "id": "4eaae3a5-9f46-4545-af12-a5c963164d90",
   "metadata": {},
   "source": [
    "#### H: Source Reference\n",
    "\n",
    "* (sklearn documentation for KNeighborsClassifier) : https://scikit-learn.org/stable/modules/generated/sklearn.neighbors.KNeighborsClassifier.html\n",
    "\n",
    "* (Datacamp class material, 2024): https://campus.datacamp.com/courses/supervised-learning-with-scikit-learn/classification-1?ex=1\n",
    "\n",
    "* (Dr. Elleh's webinar, nd): https://wgu.hosted.panopto.com/Panopto/Pages/Viewer.aspx?id=b73b6274-ef01-4d1b-a59f-aed100228a93\n",
    "\n",
    "* (Confusion-Matrix 2024): https://scikit-learn.org/stable/modules/model_evaluation.html#confusionmatrix"
   ]
  }
 ],
 "metadata": {
  "kernelspec": {
   "display_name": "Python 3 (ipykernel)",
   "language": "python",
   "name": "python3"
  },
  "language_info": {
   "codemirror_mode": {
    "name": "ipython",
    "version": 3
   },
   "file_extension": ".py",
   "mimetype": "text/x-python",
   "name": "python",
   "nbconvert_exporter": "python",
   "pygments_lexer": "ipython3",
   "version": "3.11.1"
  }
 },
 "nbformat": 4,
 "nbformat_minor": 5
}
