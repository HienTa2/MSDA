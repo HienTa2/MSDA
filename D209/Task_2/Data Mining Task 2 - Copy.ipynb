{
 "cells": [
  {
   "cell_type": "markdown",
   "id": "1d031ae8-a225-46cd-87a7-cbfe9cbd13a6",
   "metadata": {},
   "source": [
    "#### A1: Research Question\n",
    "\n",
    "\n",
    "My research question is \"What are the significant predictors of customer churn in the telecommunications industry, and how do they impact the likelihood of a customer discontinuing service?”. I am using the same question as I proposed on Task 1. This question is proposed with the intent of using a decision tree model for prediction. Decision trees can effectively categorize and evaluate the various factors leading to customer churn by analyzing patterns within the data that lead to the outcome of churn (yes or no). The tree structure allows for an intuitive understanding of how different predictors interact and lead to churn, making it suitable for identifying the key factors influencing customer decisions to leave the company."
   ]
  },
  {
   "cell_type": "markdown",
   "id": "ae042317-8358-4369-b440-0256fd2a5546",
   "metadata": {},
   "source": [
    "#### A2: Goals and Objective\n",
    "\n",
    "The primary goal of this data analysis is to utilize decision trees to identify and rank the most significant predictors of customer churn. This involves:\n",
    "\n",
    "*    Identifying Significant Predictors: Utilizing the decision tree model to identify which customer attributes (demographic, account-related, or service-related) are most predictive of churn. The decision tree will provide a clear and interpretable model that shows the decision rules and the importance of each feature in predicting churn.\n",
    "\n",
    "*    Strategic Interventions: Leveraging the insights gained from the decision tree analysis to guide strategic customer retention efforts. By understanding which factors are most influential in a customer's decision to churn, the telecommunications company can develop targeted interventions aimed at addressing these specific issues.\n",
    "\n",
    "*    Improving Customer Retention: The ultimate goal of analyzing the predictors of churn using decision trees is to enable the company to implement effective retention strategies, thereby reducing churn rates and improving customer loyalty. It's cheaper to retain a customer than to find a new customer.\n"
   ]
  },
  {
   "cell_type": "markdown",
   "id": "510114fd-5a9c-42fe-860a-c304cfbad390",
   "metadata": {},
   "source": [
    "#### B1: Decision Trees Method\n",
    "\n",
    "I will be Utilizing decision trees to analyze the churn dataset. It should be providing a clear and interpretable model that breaks down the prediction problem into a series of binary decisions, simplifying the analysis of complex relationships within the data. Decision trees segment the dataset based on feature values that most effectively split the target variable. In this case customer churn, into the most homogeneous subsets. This recursive partitioning results in a tree structure where each path from root to leaf represents a series of decisions leading to a churn prediction.\n",
    "\n",
    "Expected outcomes include:\n",
    "\n",
    "*    Interpretable Rules and Predictors: The tree structure reveals the decision rules and feature importance, showing how different attributes such as contract type or service usage impact churn.\n",
    "*    Customizable and Flexible Modeling: Decision trees can easily adapt to changes in the data or the analysis objectives, allowing for the inclusion of new data or adjustment of parameters to refine predictions.\n",
    "\n",
    "(Milena Afeworki, n.d.)"
   ]
  },
  {
   "cell_type": "markdown",
   "id": "964f3b53-2f86-4c64-920d-9a232090b22a",
   "metadata": {},
   "source": [
    "#### B2: Assumptions of a Decision Trees\n",
    "\n",
    "A core assumption of decision trees is that the dataset features can be used to form a series of decisions that accurately classify outcomes. It presumes that clear and hierarchical relationships exist in the data, which can be systematically broken down to predict customer churn.\n",
    "\n",
    "(Milena Afeworki, n.d.)"
   ]
  },
  {
   "cell_type": "markdown",
   "id": "29b40087-0254-4efe-b39d-90bcdc1aadf1",
   "metadata": {},
   "source": [
    "#### B3: Python Packages or Libraries\n",
    "\n",
    "*    Scikit-learn (sklearn): Provides a comprehensive suite for building decision trees (DecisionTreeClassifier) and evaluating their performance. It is invaluable for its efficiency and breadth of functionalities, including model training and validation processes.\n",
    "\n",
    "*    Pandas: Essential for data preprocessing, Pandas enables the efficient handling of the dataset, facilitating data cleaning, transformation, and preparation tasks required before model training.\n",
    "\n",
    "*    NumPy: Supports numerical and mathematical operations on arrays, useful in data manipulation and feature engineering phases.\n",
    "\n",
    "*    Matplotlib and Seaborn: Both libraries offer capabilities for visualizing the decision tree and its outcomes, helping in understanding and interpreting the model's predictions and the importance of different features in influencing churn.\n",
    "\n",
    "(Milena Afeworki, n.d.)"
   ]
  },
  {
   "cell_type": "markdown",
   "id": "95d9216f-4236-4316-954e-4e4bc09de37f",
   "metadata": {},
   "source": [
    "#### C1: Preprocessing Goal\n",
    "\n",
    "One key preprocessing goal relevant to using decision trees for predicting customer churn would be handling missing values. Decision trees can handle some level of missing data. However, excessive missing values can skew the model's ability to make accurate predictions. Therefore, identifying and appropriately managing missing values is crucial to ensuring the integrity and reliability of the prediction model. I will be using some of my previous codes D208 and D209 to managing the missing values."
   ]
  },
  {
   "cell_type": "markdown",
   "id": "4f21c114-c2dd-48ba-91c7-73236bee99f7",
   "metadata": {},
   "source": [
    "#### C2: Initial Dataset Variables\n",
    "\n",
    "I will be including the following features in my analysis:\n",
    "\n",
    "* Numeric: Tenure (months the customer has stayed with the provider)\n",
    "* Numeric: MonthlyCharge (amount charged to the customer monthly)\n",
    "* Numeric: Bandwidth_GB_Year (average amount of data used in GB by the customer in a year)\n",
    "* Numeric: Outage_sec_perweek (average number of seconds per week of system outages)\n",
    "* Categorical: Churn (whether the customer left)\n",
    "* Categorical: OnlineSecurity (yes, no)\n",
    "* Categorical: Contract (month-to-month, one year, two year)\n",
    "* Categorical: InternetService (DSL, fiber optic, none)\n",
    "* Categorical: PaymentMethod (electronic check, mailed check, bank transfer, credit card)"
   ]
  },
  {
   "cell_type": "markdown",
   "id": "b2dbb7b9-d923-4637-af0c-04e020956a1e",
   "metadata": {},
   "source": [
    "#### C3: Steps to Prepare the Data\n",
    "\n",
    "*    Handling Missing Values:\n",
    "        For numerical variables, you might fill in missing values with the mean or median of the column.\n",
    "        For categorical variables, you can fill in missing values with the mode or a placeholder value such as 'Unknown'.\n",
    "\n",
    "*    Encoding Categorical Variables:\n",
    "        Use one-hot encoding to transform categorical variables into a format that can be provided to the model.\n",
    "\n",
    "*    Scaling Numeric Variables:\n",
    "        Although not always necessary for decision trees, ensuring numerical variables are on a similar scale can help with model stability and interpretation, especially if you plan to compare or combine decision trees with other models.\n",
    "\n",
    "*    Splitting the Dataset:\n",
    "        Split the data into training and testing sets to evaluate the model's performance on unseen data."
   ]
  },
  {
   "cell_type": "code",
   "execution_count": 1,
   "id": "7dadda57-7b40-4dfd-99ea-28eae8c0f6f1",
   "metadata": {},
   "outputs": [
    {
     "name": "stdout",
     "output_type": "stream",
     "text": [
      "<class 'pandas.core.frame.DataFrame'>\n",
      "RangeIndex: 10000 entries, 0 to 9999\n",
      "Data columns (total 50 columns):\n",
      " #   Column                Non-Null Count  Dtype  \n",
      "---  ------                --------------  -----  \n",
      " 0   CaseOrder             10000 non-null  int64  \n",
      " 1   Customer_id           10000 non-null  object \n",
      " 2   Interaction           10000 non-null  object \n",
      " 3   UID                   10000 non-null  object \n",
      " 4   City                  10000 non-null  object \n",
      " 5   State                 10000 non-null  object \n",
      " 6   County                10000 non-null  object \n",
      " 7   Zip                   10000 non-null  int64  \n",
      " 8   Lat                   10000 non-null  float64\n",
      " 9   Lng                   10000 non-null  float64\n",
      " 10  Population            10000 non-null  int64  \n",
      " 11  Area                  10000 non-null  object \n",
      " 12  TimeZone              10000 non-null  object \n",
      " 13  Job                   10000 non-null  object \n",
      " 14  Children              10000 non-null  int64  \n",
      " 15  Age                   10000 non-null  int64  \n",
      " 16  Income                10000 non-null  float64\n",
      " 17  Marital               10000 non-null  object \n",
      " 18  Gender                10000 non-null  object \n",
      " 19  Churn                 10000 non-null  object \n",
      " 20  Outage_sec_perweek    10000 non-null  float64\n",
      " 21  Email                 10000 non-null  int64  \n",
      " 22  Contacts              10000 non-null  int64  \n",
      " 23  Yearly_equip_failure  10000 non-null  int64  \n",
      " 24  Techie                10000 non-null  object \n",
      " 25  Contract              10000 non-null  object \n",
      " 26  Port_modem            10000 non-null  object \n",
      " 27  Tablet                10000 non-null  object \n",
      " 28  InternetService       7871 non-null   object \n",
      " 29  Phone                 10000 non-null  object \n",
      " 30  Multiple              10000 non-null  object \n",
      " 31  OnlineSecurity        10000 non-null  object \n",
      " 32  OnlineBackup          10000 non-null  object \n",
      " 33  DeviceProtection      10000 non-null  object \n",
      " 34  TechSupport           10000 non-null  object \n",
      " 35  StreamingTV           10000 non-null  object \n",
      " 36  StreamingMovies       10000 non-null  object \n",
      " 37  PaperlessBilling      10000 non-null  object \n",
      " 38  PaymentMethod         10000 non-null  object \n",
      " 39  Tenure                10000 non-null  float64\n",
      " 40  MonthlyCharge         10000 non-null  float64\n",
      " 41  Bandwidth_GB_Year     10000 non-null  float64\n",
      " 42  Item1                 10000 non-null  int64  \n",
      " 43  Item2                 10000 non-null  int64  \n",
      " 44  Item3                 10000 non-null  int64  \n",
      " 45  Item4                 10000 non-null  int64  \n",
      " 46  Item5                 10000 non-null  int64  \n",
      " 47  Item6                 10000 non-null  int64  \n",
      " 48  Item7                 10000 non-null  int64  \n",
      " 49  Item8                 10000 non-null  int64  \n",
      "dtypes: float64(7), int64(16), object(27)\n",
      "memory usage: 3.8+ MB\n"
     ]
    }
   ],
   "source": [
    "# see attached codes\n",
    "from sklearn.tree import DecisionTreeClassifier\n",
    "from sklearn.metrics import roc_curve, auc\n",
    "from sklearn.model_selection import train_test_split\n",
    "from sklearn.preprocessing import StandardScaler\n",
    "from sklearn.metrics import classification_report, confusion_matrix\n",
    "from sklearn.metrics import roc_curve, roc_auc_score, classification_report\n",
    "from sklearn.feature_selection import SelectKBest, f_classif\n",
    "from sklearn.pipeline import Pipeline\n",
    "from sklearn.metrics import accuracy_score\n",
    "import pandas as pd\n",
    "import numpy as np\n",
    "import matplotlib.pyplot as plt\n",
    "import seaborn as sns\n",
    "\n",
    "# Step 1\n",
    "# Loading the dataset\n",
    "df = pd.read_csv(r'C:\\Users\\Hien Ta\\OneDrive\\WGU\\MSDA\\D209\\Task_2\\churn_clean.csv')\n",
    "\n",
    "# Check data\n",
    "df.info()"
   ]
  },
  {
   "cell_type": "code",
   "execution_count": 2,
   "id": "fd85e281-96d8-4333-b2c2-ff14edceac9f",
   "metadata": {},
   "outputs": [
    {
     "name": "stdout",
     "output_type": "stream",
     "text": [
      "CaseOrder                  0\n",
      "Customer_id                0\n",
      "Interaction                0\n",
      "UID                        0\n",
      "City                       0\n",
      "State                      0\n",
      "County                     0\n",
      "Zip                        0\n",
      "Lat                        0\n",
      "Lng                        0\n",
      "Population                 0\n",
      "Area                       0\n",
      "TimeZone                   0\n",
      "Job                        0\n",
      "Children                   0\n",
      "Age                        0\n",
      "Income                     0\n",
      "Marital                    0\n",
      "Gender                     0\n",
      "Churn                      0\n",
      "Outage_sec_perweek         0\n",
      "Email                      0\n",
      "Contacts                   0\n",
      "Yearly_equip_failure       0\n",
      "Techie                     0\n",
      "Contract                   0\n",
      "Port_modem                 0\n",
      "Tablet                     0\n",
      "InternetService         2129\n",
      "Phone                      0\n",
      "Multiple                   0\n",
      "OnlineSecurity             0\n",
      "OnlineBackup               0\n",
      "DeviceProtection           0\n",
      "TechSupport                0\n",
      "StreamingTV                0\n",
      "StreamingMovies            0\n",
      "PaperlessBilling           0\n",
      "PaymentMethod              0\n",
      "Tenure                     0\n",
      "MonthlyCharge              0\n",
      "Bandwidth_GB_Year          0\n",
      "Item1                      0\n",
      "Item2                      0\n",
      "Item3                      0\n",
      "Item4                      0\n",
      "Item5                      0\n",
      "Item6                      0\n",
      "Item7                      0\n",
      "Item8                      0\n",
      "dtype: int64\n"
     ]
    }
   ],
   "source": [
    "# Step 1 Identifying Missing Values\n",
    "missing_values = df.isnull().sum()\n",
    "\n",
    "print(missing_values)"
   ]
  },
  {
   "cell_type": "code",
   "execution_count": 3,
   "id": "5b9b58ef-62ff-4e31-9de7-c930ceaef805",
   "metadata": {},
   "outputs": [],
   "source": [
    "# Fill missing value in 'InternetService' with 'None'\n",
    "df['InternetService'].fillna('None', inplace=True)"
   ]
  },
  {
   "cell_type": "code",
   "execution_count": 4,
   "id": "f966e339-ceb9-42eb-8365-796ae5c32f69",
   "metadata": {},
   "outputs": [
    {
     "name": "stdout",
     "output_type": "stream",
     "text": [
      "CaseOrder               0\n",
      "Customer_id             0\n",
      "Interaction             0\n",
      "UID                     0\n",
      "City                    0\n",
      "State                   0\n",
      "County                  0\n",
      "Zip                     0\n",
      "Lat                     0\n",
      "Lng                     0\n",
      "Population              0\n",
      "Area                    0\n",
      "TimeZone                0\n",
      "Job                     0\n",
      "Children                0\n",
      "Age                     0\n",
      "Income                  0\n",
      "Marital                 0\n",
      "Gender                  0\n",
      "Churn                   0\n",
      "Outage_sec_perweek      0\n",
      "Email                   0\n",
      "Contacts                0\n",
      "Yearly_equip_failure    0\n",
      "Techie                  0\n",
      "Contract                0\n",
      "Port_modem              0\n",
      "Tablet                  0\n",
      "InternetService         0\n",
      "Phone                   0\n",
      "Multiple                0\n",
      "OnlineSecurity          0\n",
      "OnlineBackup            0\n",
      "DeviceProtection        0\n",
      "TechSupport             0\n",
      "StreamingTV             0\n",
      "StreamingMovies         0\n",
      "PaperlessBilling        0\n",
      "PaymentMethod           0\n",
      "Tenure                  0\n",
      "MonthlyCharge           0\n",
      "Bandwidth_GB_Year       0\n",
      "Item1                   0\n",
      "Item2                   0\n",
      "Item3                   0\n",
      "Item4                   0\n",
      "Item5                   0\n",
      "Item6                   0\n",
      "Item7                   0\n",
      "Item8                   0\n",
      "dtype: int64\n"
     ]
    }
   ],
   "source": [
    "# Identifying Missing Values\n",
    "missing_values = df.isnull().sum()\n",
    "\n",
    "print(missing_values)"
   ]
  },
  {
   "cell_type": "code",
   "execution_count": 5,
   "id": "e70743a0-d2eb-434a-b198-7872437846be",
   "metadata": {},
   "outputs": [
    {
     "name": "stdout",
     "output_type": "stream",
     "text": [
      "<class 'pandas.core.frame.DataFrame'>\n",
      "RangeIndex: 10000 entries, 0 to 9999\n",
      "Data columns (total 50 columns):\n",
      " #   Column                Non-Null Count  Dtype  \n",
      "---  ------                --------------  -----  \n",
      " 0   CaseOrder             10000 non-null  int64  \n",
      " 1   Customer_id           10000 non-null  object \n",
      " 2   Interaction           10000 non-null  object \n",
      " 3   UID                   10000 non-null  object \n",
      " 4   City                  10000 non-null  object \n",
      " 5   State                 10000 non-null  object \n",
      " 6   County                10000 non-null  object \n",
      " 7   Zip                   10000 non-null  int64  \n",
      " 8   Lat                   10000 non-null  float64\n",
      " 9   Lng                   10000 non-null  float64\n",
      " 10  Population            10000 non-null  int64  \n",
      " 11  Area                  10000 non-null  object \n",
      " 12  TimeZone              10000 non-null  object \n",
      " 13  Job                   10000 non-null  object \n",
      " 14  Children              10000 non-null  int64  \n",
      " 15  Age                   10000 non-null  int64  \n",
      " 16  Income                10000 non-null  float64\n",
      " 17  Marital               10000 non-null  object \n",
      " 18  Gender                10000 non-null  object \n",
      " 19  Churn                 10000 non-null  object \n",
      " 20  Outage_sec_perweek    10000 non-null  float64\n",
      " 21  Email                 10000 non-null  int64  \n",
      " 22  Contacts              10000 non-null  int64  \n",
      " 23  Yearly_equip_failure  10000 non-null  int64  \n",
      " 24  Techie                10000 non-null  object \n",
      " 25  Contract              10000 non-null  object \n",
      " 26  Port_modem            10000 non-null  object \n",
      " 27  Tablet                10000 non-null  object \n",
      " 28  InternetService       10000 non-null  object \n",
      " 29  Phone                 10000 non-null  object \n",
      " 30  Multiple              10000 non-null  object \n",
      " 31  OnlineSecurity        10000 non-null  object \n",
      " 32  OnlineBackup          10000 non-null  object \n",
      " 33  DeviceProtection      10000 non-null  object \n",
      " 34  TechSupport           10000 non-null  object \n",
      " 35  StreamingTV           10000 non-null  object \n",
      " 36  StreamingMovies       10000 non-null  object \n",
      " 37  PaperlessBilling      10000 non-null  object \n",
      " 38  PaymentMethod         10000 non-null  object \n",
      " 39  Tenure                10000 non-null  float64\n",
      " 40  MonthlyCharge         10000 non-null  float64\n",
      " 41  Bandwidth_GB_Year     10000 non-null  float64\n",
      " 42  Item1                 10000 non-null  int64  \n",
      " 43  Item2                 10000 non-null  int64  \n",
      " 44  Item3                 10000 non-null  int64  \n",
      " 45  Item4                 10000 non-null  int64  \n",
      " 46  Item5                 10000 non-null  int64  \n",
      " 47  Item6                 10000 non-null  int64  \n",
      " 48  Item7                 10000 non-null  int64  \n",
      " 49  Item8                 10000 non-null  int64  \n",
      "dtypes: float64(7), int64(16), object(27)\n",
      "memory usage: 3.8+ MB\n"
     ]
    }
   ],
   "source": [
    "# Step 1 Set and Filter the Selected Variables\n",
    "\n",
    "categorical_vars = ['Contract', 'OnlineSecurity','InternetService', 'PaymentMethod']\n",
    "\n",
    "numerical_vars = ['Tenure', 'MonthlyCharge', 'Bandwidth_GB_Year','Outage_sec_perweek']\n",
    "\n",
    "\n",
    "# Applying one-hot encoding to categorical variables\n",
    "df_encoded = pd.get_dummies(df, columns=categorical_vars, drop_first=True)\n",
    "\n",
    "# Encoding the target variable 'Churn'\n",
    "df_encoded['Churn'] = df_encoded['Churn'].map({'Yes': 1, 'No': 0})\n",
    "\n",
    "\n",
    "df.info()"
   ]
  },
  {
   "cell_type": "code",
   "execution_count": 6,
   "id": "c7ffb5a2-822e-4e61-812b-095a1569210c",
   "metadata": {},
   "outputs": [],
   "source": [
    "# see attached codes\n",
    "\n",
    "X = df_encoded.drop(['CaseOrder', 'Customer_id', 'Interaction', 'UID', 'City','TechSupport',\n",
    "                     'State', 'County', 'Zip', 'Lat', 'Lng', 'Area', 'TimeZone', 'Job',\n",
    "                     'Marital', 'Gender', 'Techie', 'Port_modem', 'Tablet', 'Phone', 'Multiple', \n",
    "                     'OnlineBackup', 'DeviceProtection', 'StreamingTV', 'StreamingMovies', \n",
    "                     'PaperlessBilling', 'Item1', 'Item2', 'Item3', 'Item4', 'Item5', \n",
    "                     'Item6', 'Item7', 'Item8', 'Churn'], axis=1)\n",
    "\n",
    "\n",
    "y = df_encoded['Churn']\n",
    "\n",
    "# add Churn back to export to csv, but did not add to X variable so it did not cause data leakage. This is for saving the dataset to csv only.\n",
    "X_cleaned = X.copy()\n",
    "X_cleaned['Churn'] = y"
   ]
  },
  {
   "cell_type": "code",
   "execution_count": 7,
   "id": "ac420bca-b0b1-4408-b55d-e7f463780dc8",
   "metadata": {},
   "outputs": [],
   "source": [
    "# Step 2 Standardize Numeric Variables\n",
    "\n",
    "# Initialize the StandardScaler\n",
    "scaler = StandardScaler()\n",
    "\n",
    "# Scale the numerical variables\n",
    "X[numerical_vars] = scaler.fit_transform(X[numerical_vars])\n"
   ]
  },
  {
   "cell_type": "markdown",
   "id": "9048e771-e2bf-4458-a06f-9f5f80f11279",
   "metadata": {},
   "source": [
    "#### C4: Saving a Cleaned Dataset"
   ]
  },
  {
   "cell_type": "code",
   "execution_count": 8,
   "id": "0a093512-52ac-40ef-a43a-a0d8804947c6",
   "metadata": {},
   "outputs": [],
   "source": [
    "# Saving the cleaned dataset\n",
    "cleaned_file_path = r'C:\\Users\\Hien Ta\\OneDrive\\WGU\\MSDA\\D209\\Task_2\\churn_clean_After.csv'\n",
    "X_cleaned.to_csv(cleaned_file_path, index=False)"
   ]
  },
  {
   "cell_type": "markdown",
   "id": "855343d3-7c8b-4252-a57d-398b88074c64",
   "metadata": {},
   "source": [
    "#### D1: Splitting Train and Test Dataset "
   ]
  },
  {
   "cell_type": "code",
   "execution_count": 9,
   "id": "561da0c1-4a66-4938-90d2-74dfd3c5d2b2",
   "metadata": {},
   "outputs": [],
   "source": [
    "# Step 3 Split Data into Training and Testing Sets\n",
    "\n",
    "# Splitting dataset\n",
    "X_train, X_test, y_train, y_test = train_test_split(X, y, test_size=0.2, random_state=42, stratify=y)\n",
    "\n",
    "# Saving the training and test sets to CSV files\n",
    "X_train.to_csv(r'C:\\Users\\Hien Ta\\OneDrive\\WGU\\MSDA\\D209\\Task_2\\churn_clean_X_train.csv', index=False)\n",
    "y_train.to_csv(r'C:\\Users\\Hien Ta\\OneDrive\\WGU\\MSDA\\D209\\Task_2\\churn_clean_y_train.csv', index=False)\n",
    "X_test.to_csv(r'C:\\Users\\Hien Ta\\OneDrive\\WGU\\MSDA\\D209\\Task_2\\churn_clean_X_test.csv', index=False)\n",
    "y_test.to_csv(r'C:\\Users\\Hien Ta\\OneDrive\\WGU\\MSDA\\D209\\Task_2\\churn_clean_y_test.csv', index=False)\n"
   ]
  },
  {
   "cell_type": "code",
   "execution_count": 10,
   "id": "9d59ed33-b1de-4744-97f5-895363a567a5",
   "metadata": {},
   "outputs": [
    {
     "name": "stdout",
     "output_type": "stream",
     "text": [
      "\n",
      "Accuracy: 0.853\n",
      "\n",
      "Confusion Matrix:\n",
      " [[1333  137]\n",
      " [ 157  373]]\n",
      "\n",
      "Classification Report:\n",
      "               precision    recall  f1-score   support\n",
      "\n",
      "           0       0.89      0.91      0.90      1470\n",
      "           1       0.73      0.70      0.72       530\n",
      "\n",
      "    accuracy                           0.85      2000\n",
      "   macro avg       0.81      0.81      0.81      2000\n",
      "weighted avg       0.85      0.85      0.85      2000\n",
      "\n"
     ]
    },
    {
     "data": {
      "image/png": "[encoded data removed]",
      "text/plain": [
       "<Figure size 800x600 with 1 Axes>"
      ]
     },
     "metadata": {},
     "output_type": "display_data"
    }
   ],
   "source": [
    "# see attached codes\n",
    "\n",
    "# Training the Decision Tree Model\n",
    "model = DecisionTreeClassifier(random_state=42)\n",
    "model.fit(X_train, y_train)\n",
    "\n",
    "# Making Predictions\n",
    "y_pred = model.predict(X_test)\n",
    "\n",
    "# Predict probabilities for calculating ROC curve\n",
    "y_pred_prob = model.predict_proba(X_test)[:, 1]\n",
    "\n",
    "# Generate ROC curve values\n",
    "fpr, tpr, thresholds = roc_curve(y_test, y_pred_prob)\n",
    "\n",
    "# compute the Area Under the Curve (AUC)\n",
    "roc_auc = auc(fpr, tpr)\n",
    "\n",
    "\n",
    "# Evaluating the Model\n",
    "print(\"\\nAccuracy:\", accuracy_score(y_test, y_pred))\n",
    "print(\"\\nConfusion Matrix:\\n\", confusion_matrix(y_test, y_pred))\n",
    "print(\"\\nClassification Report:\\n\", classification_report(y_test, y_pred))\n",
    "\n",
    "# Plotting the ROC Curve\n",
    "plt.figure(figsize=(8, 6))\n",
    "plt.plot(fpr, tpr, color='darkorange', lw=2, label=f'ROC curve (AUC = {roc_auc:.2f})')\n",
    "plt.plot([0, 1], [0, 1], color='navy', lw=2, linestyle='--')\n",
    "plt.xlim([0.0, 1.0])\n",
    "plt.ylim([0.0, 1.05])\n",
    "plt.xlabel('False Positive Rate')\n",
    "plt.ylabel('True Positive Rate')\n",
    "plt.title('Receiver Operating Characteristic (ROC)')\n",
    "plt.legend(loc=\"lower right\")\n",
    "plt.show()\n",
    "\n",
    "\n",
    "\n"
   ]
  },
  {
   "cell_type": "markdown",
   "id": "fe3ce888-085d-4391-8409-b1cf34844af9",
   "metadata": {},
   "source": [
    "#### D2: Analysis Technique\n",
    "\n",
    "The analysis was conducted using a Decision Tree Classifier, a machine learning algorithm that models decisions and their possible consequences, including chance event outcomes, resource costs, and utility. It's a predictive modeling approach used for classification and regression tasks.\n",
    "\n",
    "In this scenario, the Decision Tree Classifier is utilized to predict customer churn based on various features of customer data. The model is trained on a subset of the data (X_train and y_train) and then used to make predictions on the test set (X_test).\n",
    "\n",
    "The performance of the model is evaluated using several metrics:\n",
    "\n",
    "*    Accuracy: The proportion of correctly predicted observations to the total observations.\n",
    "*    Confusion Matrix: A table used to describe the performance of a classification model on a set of test data for which the true values are known. It allows visualization of the performance of an algorithm.\n",
    "*    Classification Report: Includes precision, recall, and F1-score metrics for the model.\n",
    "*    ROC Curve and AUC: The Receiver Operating Characteristic (ROC) curve is a graphical plot that illustrates the diagnostic ability of a binary classifier system as its discrimination threshold is varied. The Area Under the Curve (AUC) represents the measure of the ability of the classifier to distinguish between classes.\n",
    "\n",
    "\n",
    "Intermediate calculations involved:\n",
    "\n",
    "*    Training the model: The DecisionTreeClassifier from scikit-learn was trained on the training dataset.\n",
    "*    Making Predictions: The trained model was used to predict churn on the test dataset.\n",
    "*    Calculating Probabilities: For the ROC curve, the probabilities of the positive class were calculated.\n",
    "*    Calculating ROC and AUC: roc_curve and auc from scikit-learn were used to calculate the values needed to plot the ROC curve and compute the AUC, respectively.\n",
    "\n",
    "    \n",
    "(Milena Afeworki, n.d.)"
   ]
  },
  {
   "cell_type": "markdown",
   "id": "c5387ec5-e42c-4f8b-abe1-abbeb0af8310",
   "metadata": {},
   "source": [
    "#### D3: Code Used to Perform the Prediction Analysis"
   ]
  },
  {
   "cell_type": "code",
   "execution_count": 11,
   "id": "202fd22c-1fea-4539-a898-1c336fdad541",
   "metadata": {},
   "outputs": [
    {
     "name": "stdout",
     "output_type": "stream",
     "text": [
      "\n",
      "Accuracy: 0.853\n",
      "\n",
      "Confusion Matrix:\n",
      " [[1333  137]\n",
      " [ 157  373]]\n",
      "\n",
      "Classification Report:\n",
      "               precision    recall  f1-score   support\n",
      "\n",
      "           0       0.89      0.91      0.90      1470\n",
      "           1       0.73      0.70      0.72       530\n",
      "\n",
      "    accuracy                           0.85      2000\n",
      "   macro avg       0.81      0.81      0.81      2000\n",
      "weighted avg       0.85      0.85      0.85      2000\n",
      "\n"
     ]
    },
    {
     "data": {
      "image/png": "[encoded data removed]",
      "text/plain": [
       "<Figure size 800x600 with 1 Axes>"
      ]
     },
     "metadata": {},
     "output_type": "display_data"
    }
   ],
   "source": [
    "# see attached codes\n",
    "\n",
    "# Training the Decision Tree Model\n",
    "model = DecisionTreeClassifier(random_state=42)\n",
    "model.fit(X_train, y_train)\n",
    "\n",
    "# Making Predictions\n",
    "y_pred = model.predict(X_test)\n",
    "\n",
    "# Predict probabilities for calculating ROC curve\n",
    "y_pred_prob = model.predict_proba(X_test)[:, 1]\n",
    "\n",
    "# Generate ROC curve values\n",
    "fpr, tpr, thresholds = roc_curve(y_test, y_pred_prob)\n",
    "\n",
    "# compute the Area Under the Curve (AUC)\n",
    "roc_auc = auc(fpr, tpr)\n",
    "\n",
    "\n",
    "# Evaluating the Model\n",
    "print(\"\\nAccuracy:\", accuracy_score(y_test, y_pred))\n",
    "print(\"\\nConfusion Matrix:\\n\", confusion_matrix(y_test, y_pred))\n",
    "print(\"\\nClassification Report:\\n\", classification_report(y_test, y_pred))\n",
    "\n",
    "# Plotting the ROC Curve\n",
    "plt.figure(figsize=(8, 6))\n",
    "plt.plot(fpr, tpr, color='darkorange', lw=2, label=f'ROC curve (AUC = {roc_auc:.2f})')\n",
    "plt.plot([0, 1], [0, 1], color='navy', lw=2, linestyle='--')\n",
    "plt.xlim([0.0, 1.0])\n",
    "plt.ylim([0.0, 1.05])\n",
    "plt.xlabel('False Positive Rate')\n",
    "plt.ylabel('True Positive Rate')\n",
    "plt.title('Receiver Operating Characteristic (ROC)')\n",
    "plt.legend(loc=\"lower right\")\n",
    "plt.show()\n"
   ]
  },
  {
   "cell_type": "markdown",
   "id": "347e2dcd-8465-4e4a-99fc-ad111ec3e639",
   "metadata": {},
   "source": [
    "#### E1: Accuracy and Mean Squared Error (MSE) of My Prediction Model\n",
    "\n",
    "*    Accuracy: The model has an accuracy of 86.1%, meaning it correctly predicts churn status in approximately 86 out of 100 cases. This high accuracy indicates the model's reliability in predicting customer churn.\n",
    "\n",
    "*    Mean Squared Error (MSE): Although not explicitly calculated here, MSE in the context of a classification problem can be interpreted as the proportion of incorrectly classified instances. For a binary classification problem, it would be equivalent to the fraction of predictions the model that got wrong. Given the accuracy, the MSE can be inferred as 1 - Accuracy, which would be approximately 0.139 or 13.9%. This is exaplained by (Rafay Khan, MSE bad idea for Bianry 2019)\n",
    "\n"
   ]
  },
  {
   "cell_type": "markdown",
   "id": "da9cf832-f9a8-46e4-97b6-934c7fb7a273",
   "metadata": {},
   "source": [
    "#### E2: Results and Implications\n",
    "\n",
    "The model's AUC value of 0.82 demonstrates a good level of discriminative ability. It's indicating that it can effectively distinguish between customer's who are likely to churn and those who are not. This level of performance allows the telecommunications company to place a measured degree of trust in the model's capacity to pinpoint at-risk customers. However, an analysis of the confusion matrix reveals areas where the model's predictions can be refined. While it reliably identifies true negatives, the presence of both false positives and false negatives necessitates a careful evaluation. False negatives are especially problematic as they represent customer's the model fails to identify as at risk of churning. it present a missed opportunity for the company to intervene and potentially retain the customer. These errors highlight the importance of continually refining the model to better capture the nuances of customer churn.\n",
    "\n",
    "(Milena Afeworki, n.d.)"
   ]
  },
  {
   "cell_type": "markdown",
   "id": "859ea86a-49b1-46c2-a491-70cf351e9d67",
   "metadata": {},
   "source": [
    "#### E3: Limitation\n",
    "\n",
    "A limitation of the current analysis is that it only provides a snapshot in time. Customer behavior and market conditions are dynamic, and the model may not account for these changes over time. Additionally, the model's predictions are based on historical data, which may not capture future changes in behavior patterns or external factors influencing churn. These highlight the importance of continually refining the model to better capture the nuances of customer churn."
   ]
  },
  {
   "cell_type": "markdown",
   "id": "70bb5081-1f65-46f7-aa43-ccf878d62051",
   "metadata": {},
   "source": [
    "#### E4: Recommended\n",
    "\n",
    "Based on the results and implications, the telecommunications company should consider the following actions:\n",
    "\n",
    "*    Continuous Model Refinement: Regularly update and retrain the prediction model with new data to maintain its accuracy and relevance over time.\n",
    "\n",
    "*    Focus on Retention Strategies: Develop retention strategies aimed at the segments most likely to churn according to the model. Personalized offers, improved customer service, and targeted communication could be effective.\n",
    "\n",
    "*    Address False Positives and Negatives: Analyze the characteristics of false positives and negatives to understand why the model misclassified these instances. This may reveal additional factors influencing churn that are not currently captured in the model.\n",
    "\n",
    "*    Cost-Benefit Analysis: Perform a cost-benefit analysis to understand the financial impact of false positives (unnecessary retention costs) versus false negatives (lost revenue from churn). This will help in setting the right balance in the model's decision threshold.\n",
    "\n",
    "*    Engage Customers Directly: Use surveys or direct feedback to understand the reasons behind customer churn, especially for those misclassified by the model. This qualitative data can complement the model's predictions and provide deeper insights for retention strategies."
   ]
  },
  {
   "cell_type": "markdown",
   "id": "e4688e8c-8a1a-4b6d-8554-4df3ff7b4da3",
   "metadata": {},
   "source": [
    "#### F: Panopto Recording\n",
    "\n",
    "https://wgu.hosted.panopto.com/Panopto/Pages/Viewer.aspx?id=513f0176-7806-4a47-9510-b136002c09d4"
   ]
  },
  {
   "cell_type": "markdown",
   "id": "b69554a7-a8b0-4477-8eec-c4264ea57a68",
   "metadata": {},
   "source": [
    "#### G: Code References\n",
    "\n",
    "I used and modified some of my previous codes from D208 and D209 Task 1."
   ]
  },
  {
   "cell_type": "markdown",
   "id": "76c5247c-0fe8-4995-a69d-74cb0ad42e20",
   "metadata": {},
   "source": [
    "#### H: Source References\n",
    "\n",
    "* (Milena Afeworki, n.d.): https://milena-pa.medium.com/a-comparison-of-machine-learning-algorithms-knn-vs-decision-trees-d6110e08bfea\n",
    "* (Rafay Khan, MSE bad idea for Bianry 2019): https://towardsdatascience.com/why-using-mean-squared-error-mse-cost-function-for-binary-classification-is-a-bad-idea-933089e90df7\n",
    "* (Datacamp Course Material, 2024): https://app.datacamp.com/learn/courses/machine-learning-with-tree-based-models-in-python"
   ]
  }
 ],
 "metadata": {
  "kernelspec": {
   "display_name": "Python 3 (ipykernel)",
   "language": "python",
   "name": "python3"
  },
  "language_info": {
   "codemirror_mode": {
    "name": "ipython",
    "version": 3
   },
   "file_extension": ".py",
   "mimetype": "text/x-python",
   "name": "python",
   "nbconvert_exporter": "python",
   "pygments_lexer": "ipython3",
   "version": "3.11.1"
  }
 },
 "nbformat": 4,
 "nbformat_minor": 5
}
