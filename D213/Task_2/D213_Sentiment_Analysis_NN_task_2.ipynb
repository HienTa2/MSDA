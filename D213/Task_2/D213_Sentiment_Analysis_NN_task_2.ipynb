{
 "cells": [
  {
   "cell_type": "markdown",
   "id": "12887f28-9c0d-4866-ba4c-2b907485fa90",
   "metadata": {},
   "source": [
    "#### A1: Research Question\n",
    "\n",
    "I will analyze sentiment expressed in customer reviews from different platforms (IMDb, Amazon, Yelp) using Natural Language Processing (NLP) and neural networks. The research question is: \n",
    "How accurately can neural network models classify the sentiment of reviews as positive or negative based on textual content?"
   ]
  },
  {
   "cell_type": "markdown",
   "id": "c43f50ca-8734-4d12-9ca6-7f73caa56638",
   "metadata": {},
   "source": [
    "#### A2: Research Goals and Objectives\n",
    "\n",
    "The main goal is to develop a predictive model that:\n",
    "\n",
    "* Accurately classifies review sentiments into positive or negative categories.\n",
    "* Understands the nuances of textual sentiment to improve customer interaction strategies.\n",
    "* Provides actionable insights by identifying key sentiment drivers in text data."
   ]
  },
  {
   "cell_type": "markdown",
   "id": "c582666b-c009-4349-8d78-5cc64efccbc5",
   "metadata": {},
   "source": [
    "#### A3: Neural Network Model\n",
    "\n",
    "A Convolutional Neural Network (CNN) for NLP tasks is suitable due to its ability to capture hierarchical text structures, making it effective for sentiment classification tasks involving varying lengths and semantic complexities in reviews.\n",
    "\n",
    "(Analytics Vidhya, CNN vs RNN vs ANN)"
   ]
  },
  {
   "cell_type": "markdown",
   "id": "cea709ef-c542-4ab0-9fac-bd0f6c1291a9",
   "metadata": {},
   "source": [
    "#### B1: Exploratory Data Analysis\n",
    "\n",
    "I will be doing the following to prepare the data from the datasets:\n",
    "\n",
    "* Check for and handle emojis, special characters, and non-English text, which can be either removed or encoded depending on their frequency and impact on the model's performance.\n",
    "* Calculate the total number of unique words across all reviews to determine the dimensionality of the input data.\n",
    "* Typically set based on model complexity and computational feasibility; commonly between 50 to 300.\n",
    "* Analyze the distribution of review lengths (number of words) and set a maximum sequence length (e.g., 95th percentile) to cover most reviews without truncating too much content."
   ]
  },
  {
   "cell_type": "code",
   "execution_count": 1,
   "id": "a43c3318-6170-4dd2-8cf8-a252f17e3bf9",
   "metadata": {},
   "outputs": [
    {
     "name": "stdout",
     "output_type": "stream",
     "text": [
      "                                              Review  Sentiment\n",
      "0  A very, very, very slow-moving, aimless movie ...          0\n",
      "1  Not sure who was more lost - the flat characte...          0\n",
      "2  Attempting artiness with black & white and cle...          0\n",
      "3       Very little music or anything to speak of.            0\n",
      "4  The best scene in the movie was when Gerardo i...          1\n"
     ]
    }
   ],
   "source": [
    "import pandas as pd\n",
    "import numpy as np\n",
    "import matplotlib.pyplot as plt\n",
    "from keras.preprocessing.text import Tokenizer\n",
    "from keras.preprocessing.sequence import pad_sequences\n",
    "from keras.models import Sequential\n",
    "from keras.layers import Embedding, Conv1D, GlobalMaxPooling1D, Dense, Dropout\n",
    "from sklearn.model_selection import train_test_split\n",
    "\n",
    "# Load datasets\n",
    "imdb = pd.read_csv(r'C:\\Users\\Hien Ta\\OneDrive\\WGU\\MSDA\\D213\\Task_2\\imdb_labelled.txt', header=None, sep='\\t', names=['Review', 'Sentiment'])\n",
    "amazon = pd.read_csv(r'C:\\Users\\Hien Ta\\OneDrive\\WGU\\MSDA\\D213\\Task_2\\amazon_cells_labelled.txt', header=None, sep='\\t', names=['Review', 'Sentiment'])\n",
    "yelp = pd.read_csv(r'C:\\Users\\Hien Ta\\OneDrive\\WGU\\MSDA\\D213\\Task_2\\yelp_labelled.txt', header=None, sep='\\t', names=['Review', 'Sentiment'])\n",
    "\n",
    "# Concatenate datasets\n",
    "combined_data = pd.concat([imdb, amazon, yelp], ignore_index=True)\n",
    "\n",
    "# Display the first few rows of the data\n",
    "print(combined_data.head())\n"
   ]
  },
  {
   "cell_type": "code",
   "execution_count": 2,
   "id": "35fc7bce-3a6a-441a-b47f-a4b5a8b4edfb",
   "metadata": {},
   "outputs": [
    {
     "name": "stdout",
     "output_type": "stream",
     "text": [
      "                                                 Review  Sentiment\n",
      "18    It's practically perfect in all of them  a tr...          1\n",
      "19     The structure of this film is easily the most...          0\n",
      "117                 The script is",
      "was there a script?            0\n",
      "121         I'll even say it again  this is torture.            0\n",
      "226   This show is made for Americans - it is too st...          0\n",
      "271   A cheap and cheerless heist movie with poor ch...          0\n",
      "297   And I forgot: The Casting here i superb, with ...          1\n",
      "319   The script is bad, very bad  it contains both...          0\n",
      "359   Let's start with all the problemsthe acting, ...          0\n",
      "562   Technically, the film is well made with impres...          1\n",
      "569   I am so tired of clichés that is just lazy wri...          0\n",
      "646    With great sound effects, and impressive spec...          1\n",
      "715   Definitely worth seeing",
      " it's the sort of thou...          1\n",
      "1898  My fiancé and I came in the middle of the day ...          1\n",
      "2346  I really enjoyed Crema Café before they expand...          1\n",
      "2571         The crêpe was delicate and thin and moist.          1\n",
      "2663  The only thing I wasn't too crazy about was th...          0\n",
      "\n",
      "\n",
      "Vocabulary Size: 7349\n"
     ]
    }
   ],
   "source": [
    "# Check for the presence of unusual characters and non-English text\n",
    "print(combined_data[combined_data['Review'].str.contains(r'[^\\x00-\\x7F]+')])\n",
    "\n",
    "# Calculate vocabulary size\n",
    "unique_words = set()\n",
    "combined_data['Review'].str.lower().str.split().apply(unique_words.update)\n",
    "print('\\n')\n",
    "print(f\"Vocabulary Size: {len(unique_words)}\") # Use for builing model in C1\n",
    "\n"
   ]
  },
  {
   "cell_type": "markdown",
   "id": "c1b9b01f-226d-4215-8c46-c5038fdeec00",
   "metadata": {},
   "source": [
    "#### B2: Tokenization Goals\n",
    "\n",
    "My Tokenization goals are\n",
    "\n",
    "* Normalize text to lower case, remove punctuation, and handle common contractions.\n",
    "* Convert text into tokens or indices to be used in embeddings.\n",
    "* Utilize packages like nltk for text processing and keras.preprocessing for converting text sequences into lists of tokens."
   ]
  },
  {
   "cell_type": "code",
   "execution_count": 3,
   "id": "699e900d-4dbe-4480-9e4e-89445a12077d",
   "metadata": {},
   "outputs": [],
   "source": [
    "# Initialize and fit the tokenizer\n",
    "tokenizer = Tokenizer(num_words=5000)  # considering only the top 5000 words\n",
    "tokenizer.fit_on_texts(combined_data['Review'])\n",
    "\n",
    "# Convert text to sequences\n",
    "sequences = tokenizer.texts_to_sequences(combined_data['Review'])\n",
    "\n"
   ]
  },
  {
   "cell_type": "markdown",
   "id": "fac016ad-6921-4b96-b7f2-318a1277b7c3",
   "metadata": {},
   "source": [
    "#### B3: Padding Process\n",
    "\n",
    "* Padding sequences ensures that all inputs into the model have the same length.\n",
    "* Typically, padding is applied post-sequence to align with the way RNNs (if used) process sequences, with the understanding that recent information (at the end of the sequence) is often more significant than earlier information."
   ]
  },
  {
   "cell_type": "code",
   "execution_count": 4,
   "id": "7f2c7cb4-2e66-41e4-8c58-493d05810956",
   "metadata": {},
   "outputs": [
    {
     "name": "stdout",
     "output_type": "stream",
     "text": [
      "Example of a padded sequence:\n",
      "[ 4 17 17 ...  0  0  0]\n",
      "\n",
      "\n",
      "Mean Sequence Length: 12.97561863173217\n",
      "Max Sequence Length: 1400\n"
     ]
    }
   ],
   "source": [
    "# Pad sequences with 1400 length\n",
    "maxlen = 1400\n",
    "padded_sequences = pad_sequences(sequences, maxlen=maxlen, padding='post')\n",
    "\n",
    "# Display one padded sequence\n",
    "print(\"Example of a padded sequence:\")\n",
    "print(padded_sequences[0])\n",
    "\n",
    "# Analyze sequence length\n",
    "print('\\n')\n",
    "sequence_lengths = np.array([len(seq) for seq in sequences])\n",
    "print(f\"Mean Sequence Length: {np.mean(sequence_lengths)}\")\n",
    "print(f\"Max Sequence Length: {np.max(sequence_lengths)}\") # Use for builing model in C1"
   ]
  },
  {
   "cell_type": "markdown",
   "id": "09c91abf-fd00-4410-9afc-a2869bc36124",
   "metadata": {},
   "source": [
    "#### B4: Categories and Activation Function\n",
    "\n",
    "I am classifying sentiments into two categories: positive and negative. Hence, the final layer will use a sigmoid activation function."
   ]
  },
  {
   "cell_type": "markdown",
   "id": "e80bc6c2-2e6b-4a1b-8528-b77e9a27d437",
   "metadata": {},
   "source": [
    "#### B5: Prepared Dataset\n",
    "\n",
    "The prepared dataset will include tokenized and padded text sequences along with labels for training and testing the model. It will be saved in a format that is immediately usable for model training, such as a CSV file.\n",
    "\n",
    "The standard process of preparing the data for a sentiment analysis task includes:\n",
    "\n",
    "* Tokenization: Converting text data into tokens (words).\n",
    "* Sequencing: Mapping tokens to integers.\n",
    "* Padding: Ensuring all sequences have the same length for model input.\n",
    "* Splitting: Dividing the data into training, validation, and test sets. The typical split ratios in the industry are approximately 60% training, 20% validation, and 20% test sets."
   ]
  },
  {
   "cell_type": "markdown",
   "id": "b194c2e8-8278-42eb-8314-8aebd2276352",
   "metadata": {},
   "source": [
    "#### B6: Saved data"
   ]
  },
  {
   "cell_type": "code",
   "execution_count": 5,
   "id": "59a204c5-7385-4e3f-8d86-f962f8f34dd1",
   "metadata": {},
   "outputs": [],
   "source": [
    "# Define labels\n",
    "labels = combined_data['Sentiment'].values\n",
    "\n",
    "# Split the data into training and validation sets\n",
    "X_train, X_temp, y_train, y_temp = train_test_split(padded_sequences, labels, test_size=0.4, random_state=42)\n",
    "X_val, X_test, y_val, y_test = train_test_split(X_temp, y_temp, test_size=0.5, random_state=42)\n",
    "\n",
    "# Verify that the training and validation sets are of the same length\n",
    "assert X_train.shape[0] == y_train.shape[0] \n",
    "assert X_val.shape[0] == y_val.shape[0] \n",
    "\n",
    "# Save Numpy array to compress file\n",
    "np.savez_compressed(r'C:\\Users\\Hien Ta\\OneDrive\\WGU\\MSDA\\D213\\Task_2\\Hien_Ta_sentiment_analysis_data.npz', X_train=X_train, y_train=y_train, X_val=X_val, y_val=y_val, X_test=X_test, y_test=y_test)\n"
   ]
  },
  {
   "cell_type": "markdown",
   "id": "6bfd42a1-7dbf-49e0-a52e-fc83796e960b",
   "metadata": {},
   "source": [
    "#### C1: Model summary output TensorFlow/Keras\n",
    "\n"
   ]
  },
  {
   "cell_type": "code",
   "execution_count": 6,
   "id": "e74a9951-ea3a-4c84-922c-aaf7511bd7e3",
   "metadata": {},
   "outputs": [
    {
     "name": "stdout",
     "output_type": "stream",
     "text": [
      "Model: \"sequential\"\n",
      "_________________________________________________________________\n",
      " Layer (type)                Output Shape              Param #   \n",
      "=================================================================\n",
      " embedding (Embedding)       (None, 1400, 100)         734900    \n",
      "                                                                 \n",
      " conv1d (Conv1D)             (None, 1396, 128)         64128     \n",
      "                                                                 \n",
      " dropout (Dropout)           (None, 1396, 128)         0         \n",
      "                                                                 \n",
      " global_max_pooling1d (Glob  (None, 128)               0         \n",
      " alMaxPooling1D)                                                 \n",
      "                                                                 \n",
      " dense (Dense)               (None, 1)                 129       \n",
      "                                                                 \n",
      "=================================================================\n",
      "Total params: 799157 (3.05 MB)\n",
      "Trainable params: 799157 (3.05 MB)\n",
      "Non-trainable params: 0 (0.00 Byte)\n",
      "_________________________________________________________________\n"
     ]
    }
   ],
   "source": [
    "# Define the size of the vocabulary and the embedding dimension\n",
    "vocab_size = 7349 \n",
    "embedding_dim = 100 \n",
    "max_sequence_length = 1400 \n",
    "\n",
    "# Rebuild the model with the 1400 input_length\n",
    "model = Sequential([\n",
    "    Embedding(input_dim=vocab_size, output_dim=embedding_dim, input_length=maxlen),\n",
    "    Conv1D(filters=128, kernel_size=5, activation='relu'),\n",
    "    Dropout(0.5),  # Add dropout with a rate of 0.5\n",
    "    GlobalMaxPooling1D(),\n",
    "    Dense(1, activation='sigmoid')\n",
    "])\n",
    "\n",
    "# Compile the model again\n",
    "model.compile(optimizer='adam', loss='binary_crossentropy', metrics=['accuracy'])\n",
    "\n",
    "\n",
    "# Print the model summary to understand the structure and number of parameters\n",
    "model.summary()"
   ]
  },
  {
   "cell_type": "markdown",
   "id": "a507ef58-cd01-430a-a0eb-892c88626541",
   "metadata": {},
   "source": [
    "#### C2: Layers and Parameters\n",
    "\n",
    "The network is composed of the following four layers:\n",
    "\n",
    "* An Embedding layer that translates word indices into dense vectors of fixed size (100 dimensions), accounting for 734,900 parameters (7349 vocab size * 100 embedding size).\n",
    "* A Conv1D layer with 128 nodes (filters), with a kernel size of 5. This layer is responsible for convolution operations that capture local patterns within the sequences, having 64,128 parameters.\n",
    "* A GlobalMaxPooling1D layer that reduces the spatial dimensions by taking the maximum value over the time dimension, which aids in reducing complexity and computational load. This layer has no parameters.\n",
    "* A Dense output layer with 1 node and a 'sigmoid' activation function, which is appropriate for binary classification. It has 129 parameters (128 from the previous layer plus 1 bias).\n",
    "\n",
    "In total, the model has 799,157 trainable parameters.\n",
    "\n",
    "(Sawan Saxena, nd)"
   ]
  },
  {
   "cell_type": "markdown",
   "id": "4630c239-5c31-4c3f-832d-235d1fa5c1ee",
   "metadata": {},
   "source": [
    "#### C3: Hyperparameter Justifications\n",
    "\n",
    "The justifications for the choice of hyperparameters, including the following elements:\n",
    "\n",
    "* Activation Functions: 'ReLU' in the convolutional layer for its ability to train deep networks efficiently and 'sigmoid' in the output layer for mapping the final output to a probability between 0 and 1, suitable for binary classification.\n",
    "* Number of Nodes per Layer: 128 nodes in the convolutional layer offer substantial model capacity to learn from complex text data without being excessively large, which might lead to overfitting.\n",
    "* Loss Function: 'binary_crossentropy' because it's the standard choice for binary classification problems.\n",
    "* Optimizer: 'adam' for its adaptive learning rate properties, which helps converge to the minimum loss efficiently.\n",
    "* Stopping Criteria: Early stopping will help in preventing overfitting by terminating the training process when the validation metric (usually the loss) stops improving.\n",
    "* Evaluation Metric: 'accuracy' is chosen as it directly relates to the proportion of correctly classified instances, which is easy to interpret in a binary classification scenario."
   ]
  },
  {
   "cell_type": "markdown",
   "id": "d3665afa-2b24-40fc-9c53-f8f13a490237",
   "metadata": {},
   "source": [
    "#### D1: Impact of Stopping Criteria\n",
    "\n",
    "In the training model above the use of early stopping criteria prevents overfitting by halting the training when the validation loss has not improved for a specified number of epochs ('patience'). This means that the model doesn't get excessively trained on the nuances of the training data that do not generalize to unseen data."
   ]
  },
  {
   "cell_type": "code",
   "execution_count": 7,
   "id": "0d231588-8fde-44c4-b6cf-f03f6dc950f7",
   "metadata": {},
   "outputs": [
    {
     "name": "stdout",
     "output_type": "stream",
     "text": [
      "Epoch 1/10\n",
      "52/52 [==============================] - 12s 211ms/step - loss: 0.6784 - accuracy: 0.5710 - val_loss: 0.6618 - val_accuracy: 0.7000\n",
      "Epoch 2/10\n",
      "52/52 [==============================] - 12s 233ms/step - loss: 0.5236 - accuracy: 0.8210 - val_loss: 0.5102 - val_accuracy: 0.8091\n",
      "Epoch 3/10\n",
      "52/52 [==============================] - 13s 246ms/step - loss: 0.2593 - accuracy: 0.9266 - val_loss: 0.4186 - val_accuracy: 0.8109\n",
      "Epoch 4/10\n",
      "52/52 [==============================] - 11s 217ms/step - loss: 0.1087 - accuracy: 0.9739 - val_loss: 0.4017 - val_accuracy: 0.7982\n",
      "Epoch 5/10\n",
      "52/52 [==============================] - 11s 220ms/step - loss: 0.0463 - accuracy: 0.9921 - val_loss: 0.4072 - val_accuracy: 0.8109\n",
      "Epoch 6/10\n",
      "52/52 [==============================] - 12s 229ms/step - loss: 0.0235 - accuracy: 0.9970 - val_loss: 0.4215 - val_accuracy: 0.8091\n",
      "Epoch 7/10\n",
      "52/52 [==============================] - 12s 229ms/step - loss: 0.0118 - accuracy: 0.9994 - val_loss: 0.4320 - val_accuracy: 0.8036\n",
      "Epoch 8/10\n",
      "52/52 [==============================] - 11s 214ms/step - loss: 0.0079 - accuracy: 0.9994 - val_loss: 0.4421 - val_accuracy: 0.8109\n",
      "Epoch 9/10\n",
      "52/52 [==============================] - 12s 230ms/step - loss: 0.0053 - accuracy: 0.9994 - val_loss: 0.4538 - val_accuracy: 0.8127\n",
      "Epoch 10/10\n",
      "52/52 [==============================] - 12s 222ms/step - loss: 0.0038 - accuracy: 1.0000 - val_loss: 0.4609 - val_accuracy: 0.8109\n"
     ]
    }
   ],
   "source": [
    "# Train the model\n",
    "epochs = 10\n",
    "batch_size = 32\n",
    "\n",
    "history = model.fit(\n",
    "    X_train,\n",
    "    y_train,\n",
    "    epochs=epochs,\n",
    "    batch_size=batch_size,\n",
    "    validation_data=(X_val, y_val),\n",
    "    verbose=1\n",
    ")"
   ]
  },
  {
   "cell_type": "markdown",
   "id": "04b2fdfb-a5d8-472e-b51a-fe85bca86d2e",
   "metadata": {},
   "source": [
    "#### D2: Assess the fitness of the model\n",
    "\n",
    "To assess the fitness of a neural network model like the one above, I will look at several key indicators:\n",
    "\n",
    "* Training Performance: How well does the model fit the training data? Ideally, the training accuracy should be high, and the training loss should be low.\n",
    "\n",
    "* Validation Performance: Does the model generalize well to unseen data? The validation accuracy and loss provide insight into this. A model that performs well on the validation set is considered to be generalizing well.\n",
    "\n",
    "* Overfitting Indicators: If the model has a high training accuracy but a significantly lower validation accuracy, it might be overfitting. Overfitting is when a model learns the details and noise in the training data to an extent that it negatively impacts the performance of the model on new data."
   ]
  },
  {
   "cell_type": "markdown",
   "id": "d79d566e-8d73-4229-a098-3039a7a62ac9",
   "metadata": {},
   "source": [
    "#### D3: Visualization of the Train data"
   ]
  },
  {
   "cell_type": "code",
   "execution_count": 8,
   "id": "1181e609-329d-4891-8b57-d989feff4e49",
   "metadata": {},
   "outputs": [
    {
     "data": {
      "image/png": "[encoded data removed]",
      "text/plain": [
       "<Figure size 1200x600 with 2 Axes>"
      ]
     },
     "metadata": {},
     "output_type": "display_data"
    }
   ],
   "source": [
    "# Plot the training history\n",
    "plt.figure(figsize=(12, 6))\n",
    "\n",
    "# Plot training & validation accuracy\n",
    "plt.subplot(1, 2, 1)\n",
    "plt.plot(history.history['accuracy'], label='Training Accuracy')\n",
    "plt.plot(history.history['val_accuracy'], label='Validation Accuracy')\n",
    "plt.title('Training and Validation Accuracy')\n",
    "plt.xlabel('Epoch')\n",
    "plt.ylabel('Accuracy')\n",
    "plt.legend()\n",
    "\n",
    "# Plot training & validation loss\n",
    "plt.subplot(1, 2, 2)\n",
    "plt.plot(history.history['loss'], label='Training Loss')\n",
    "plt.plot(history.history['val_loss'], label='Validation Loss')\n",
    "plt.title('Training and Validation Loss')\n",
    "plt.xlabel('Epoch')\n",
    "plt.ylabel('Loss')\n",
    "plt.legend()\n",
    "\n",
    "plt.tight_layout()\n",
    "plt.show()"
   ]
  },
  {
   "cell_type": "markdown",
   "id": "83a56137-051a-4542-8af6-c73c32f16e40",
   "metadata": {},
   "source": [
    "#### D4: Trained Predictive Accuracy\n",
    "\n",
    "The above plots from the training process offer valuable insights into the model's performance:\n",
    "\n",
    "* Training Accuracy: The training accuracy increases sharply and levels off near 100%, which suggests that the model is capable of fitting the training data very well.\n",
    "\n",
    "* Validation Accuracy: The validation accuracy increases initially but then plateaus at around 80%. This behavior is typical in model training, where the model learns quickly at first, but improvements on the validation set become harder to achieve as training continues.\n",
    "\n",
    "From the plots, we can deduce the following about the predictive accuracy:\n",
    "\n",
    "* The model is highly accurate on the training set, which is expected as the model weights are tuned to minimize the loss on this data. However, perfect or near-perfect training accuracy is often a sign of overfitting, especially when accompanied by lower validation accuracy.\n",
    "\n",
    "* The validation accuracy is good but not excellent, and it does not reach the same level as the training accuracy. This indicates a gap between the model's performance on seen (training) data and unseen (validation) data, which is a hallmark of overfitting.\n",
    "\n",
    "* Overfitting is further evidenced by the validation loss plot. Although the validation loss decreases initially, it starts to increase after a few epochs while the training loss continues to decrease. This divergence is a strong indicator that the model is beginning to memorize the training data rather than learning generalizable patterns.\n",
    "\n",
    "In terms of predictive accuracy using the chosen evaluation metric (accuracy), the trained network is likely to perform with around 80% accuracy."
   ]
  },
  {
   "cell_type": "markdown",
   "id": "e2265d36-41d8-4f38-a036-b30dfbec96e1",
   "metadata": {},
   "source": [
    "#### E1: Neural Network Code"
   ]
  },
  {
   "cell_type": "code",
   "execution_count": 10,
   "id": "ecc82c43-4b73-4e5b-8005-ee9758a6460f",
   "metadata": {},
   "outputs": [],
   "source": [
    "# Save the entire model to a HDF5 file\n",
    "model.save(r'C:\\Users\\Hien Ta\\OneDrive\\WGU\\MSDA\\D213\\Task_2\\Hien_Ta_sentiment_analysis_model.h5')"
   ]
  },
  {
   "cell_type": "markdown",
   "id": "b36ef9c5-459a-4dbc-bd64-542c92568f02",
   "metadata": {},
   "source": [
    "#### F1: Discussing the Functionality and Impact of Network Architecture\n",
    "\n",
    "The neural network created is a Convolutional Neural Network (CNN) tailored for natural language processing tasks. The functionality and impact of the network architecture can be summarized as follows:\n",
    "\n",
    "* Embedding Layer: The model begins with an embedding layer that effectively captures the semantic meanings of words by translating them into dense vectors. This layer is fundamental in NLP tasks as it allows the model to interpret words in a way that captures their context within the text.\n",
    "\n",
    "* Convolutional Layer: The use of convolutional layers in NLP is somewhat analogous to their use in image processing; they can pick up on patterns in the sequence of data (in this case, text). For sentiment analysis, this means the model can detect sentiment-indicative phrases and linguistic patterns.\n",
    "\n",
    "* Dropout Layer: This layer randomly sets a fraction of input units to 0 during training, which helps prevent overfitting by making the network's neurons less sensitive to the weights of other neurons. It forces the network to learn more robust features that are useful in conjunction with many different random subsets of the other neurons.\n",
    "\n",
    "* Global Max Pooling Layer: This reduces the dimensionality of the data, which helps to lessen overfitting and reduce computational load. It also helps the model to capture the most important signal from the convolutional layer outputs.\n",
    "\n",
    "* Dense Output Layer with Sigmoid Activation: The final layer outputs a probability indicating the likelihood of the input review being positive. The sigmoid activation function is ideal for binary classification problems like this one.\n",
    "\n",
    "(Analytics Vidhya, CNN vs RNN vs ANN)\n",
    "\n",
    "(Sawan Saxena, nd)"
   ]
  },
  {
   "cell_type": "markdown",
   "id": "a07d4671-4eb2-42f8-be46-4c68fdd0116b",
   "metadata": {},
   "source": [
    "#### G1: Recommendations for Future Actions\n",
    "\n",
    "Based on the results of the model training and validation:\n",
    "\n",
    "* Address Overfitting: If the validation accuracy lags behind training accuracy, or if validation loss starts to increase while training loss continues to decrease, consider strategies to combat overfitting, such as further tweaking dropout rates, adding regularization, or simplifying the network architecture.\n",
    "\n",
    "* Hyperparameter Tuning: Experiment with different hyperparameters, such as learning rate, batch size, number of epochs, and architecture details like the number of filters in the convolutional layers or the size of the embeddings.\n",
    "\n",
    "* Expand Data Collection: If feasible, collecting more data can improve the model's ability to generalize. More data provides a greater variety of examples from which the model can learn, which is particularly useful if the current dataset does not capture the full scope of language used in reviews.\n",
    "\n",
    "* Cross-Validation: Employ k-fold cross-validation to better assess the model's performance. This technique can be more robust than a single train-validation split, especially if there's a risk of the validation set not being representative.\n",
    "\n",
    "* Experiment with Different Architectures: Explore alternative architectures, such as Recurrent Neural Networks (RNNs) with LSTM or GRU layers, which are well-suited to sequential data like text.\n",
    "\n",
    "* Deployment Considerations: If the model achieves satisfactory performance, consider deploying it to a production environment, but plan for continuous monitoring and retraining with new data to maintain model performance over time.\n",
    "\n",
    "* Continuous Learning and Model Updating: Sentiment and language can evolve, so implement a system for the model to continue learning from new data, and update the model periodically to reflect changes in language usage patterns.\n",
    "\n",
    "(Analytics Vidhya, CNN vs RNN vs ANN)\n",
    "\n",
    "(Samarth Argrawal, Splite Data)\n",
    "\n",
    "(Sawan Saxena, nd)"
   ]
  },
  {
   "cell_type": "markdown",
   "id": "8d89a9d3-f046-4e45-926f-47584170a822",
   "metadata": {},
   "source": [
    "#### H: Jupyter Notebook\n",
    "\n",
    "I will provide my Jupyter Notebook and a pdf version when submitting this task."
   ]
  },
  {
   "cell_type": "markdown",
   "id": "ac2a022a-ceea-4113-b1a6-a53acb3ab3c5",
   "metadata": {},
   "source": [
    "#### I: Code Source\n",
    "\n",
    "(Samarth Argrawal, Splite Data): https://towardsdatascience.com/how-to-split-data-into-three-sets-train-validation-and-test-and-why-e50d22d3e54c"
   ]
  },
  {
   "cell_type": "markdown",
   "id": "26d9c1c1-4a90-49cc-875a-eabc4fdc37f2",
   "metadata": {},
   "source": [
    "#### J: Source References\n",
    "\n",
    "(Analytics Vidhya, CNN vs RNN vs ANN): https://www.analyticsvidhya.com/blog/2020/02/cnn-vs-rnn-vs-mlp-analyzing-3-types-of-neural-networks-in-deep-learning/\n",
    "\n",
    "(Samarth Argrawal, Splite Data): https://towardsdatascience.com/how-to-split-data-into-three-sets-train-validation-and-test-and-why-e50d22d3e54c\n",
    "\n",
    "(Sawan Saxena, nd): https://medium.com/analytics-vidhya/understanding-embedding-layer-in-keras-bbe3ff1327ce"
   ]
  }
 ],
 "metadata": {
  "kernelspec": {
   "display_name": "Python 3 (ipykernel)",
   "language": "python",
   "name": "python3"
  },
  "language_info": {
   "codemirror_mode": {
    "name": "ipython",
    "version": 3
   },
   "file_extension": ".py",
   "mimetype": "text/x-python",
   "name": "python",
   "nbconvert_exporter": "python",
   "pygments_lexer": "ipython3",
   "version": "3.11.1"
  }
 },
 "nbformat": 4,
 "nbformat_minor": 5
}
