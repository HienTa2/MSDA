{
 "cells": [
  {
   "cell_type": "markdown",
   "id": "68ae0ef3-c7d2-450e-a9f6-d02d22bcf2d2",
   "metadata": {},
   "source": [
    "#### A1: Interactive Data Dashboard\n",
    "\n",
    "Here is my dashboard which contains my data analysis that is published at Tableau Public for general viewing. https://public.tableau.com/app/profile/hien.ta/viz/My_Dashboard_17109650592700/Dashboard1#2. This is the easiest way to provide the interactive dashboard to any user, as it avoids the necessity for installation of Tableau or another program, while preserving the functionality of the presentation.\n",
    "\n",
    "The dashboard features:\n",
    "\n",
    "* Colors that are accessible to users with colorblindness as I select the pallete as Color Blind.\n",
    "* Data integrated from both chosen data sets of Churn and acs2017_census_tract_data which I got from Kaggle website.\n",
    "* Four different data representations to summarize the data or display trends.\n",
    "* Two different interactive controls that allow the user to modify the presentation of data in t he Churn_Map.\n",
    "* Two different metrics or key performance indicators computed using data from both chosen data sets.\n",
    "\n",
    "(Kaggle, 2024)"
   ]
  },
  {
   "cell_type": "markdown",
   "id": "769b4279-9a21-42e6-92d5-fa057b869a31",
   "metadata": {},
   "source": [
    "#### A2: Dashboard Installation Instructions\n",
    "\n",
    "As mentioned above I included the link to my dashboard on Tableau Public https://public.tableau.com/app/profile/hien.ta/viz/My_Dashboard_17109650592700/Dashboard1#2. Users could open with any web broswer such as Google Chrome. This avoid any installation from the users in order to open my dashboard.\n"
   ]
  },
  {
   "cell_type": "markdown",
   "id": "87e0c392-c847-42d8-a5f3-b417f9b961e9",
   "metadata": {},
   "source": [
    "#### A3: Navigation Instructions\n",
    "\n",
    "Follow these steps to explore the data and uncover insights:\n",
    "\n",
    "Interacting with Filters:\n",
    "* Age and State Filters: On the top right of the dashboard, you'll find filters for 'AGE' and 'States Abbr'. Click on these filters to select or deselect specific age ranges or states to view the data that is most relevant to my analysis.\n",
    "* Applying Filters: After making your selections, the dashboard will automatically update to reflect the data for my chosen parameters.\n",
    "\n",
    "Viewing Data Representations:\n",
    "* Churn_Map: To see the geographical distribution of churn rates, hover over the map. Tooltips will provide additional information about the regions.\n",
    "* Income_Bar_Graph: Examine the income bracket distribution by hovering over the bars to see the counts or percentages of churn.\n",
    "* Tenure_Line_Graph: Look at the trend of churn over tenure by following the line graph. You can see the churn rate for different tenure bins.\n",
    "* MonthlyCharge_ScatterPlot: To analyze the relationship between monthly charges and tenure, hover over the points in the scatter plot for detailed information.\n",
    "\n",
    "Key Performance Indicators (KPIs):\n",
    "* Churn Cost & KPI Turn Rate: These KPIs are displayed prominently. Churn Cost shows the financial impact of churn, and KPI Turn Rate presents the rate at which customers are leaving.\n",
    "\n",
    "Exporting Data\n",
    "* Users can export data from the graphs by clicking on the 'Download' button, typically located at the bottom of the visualization, and selecting 'Data'.\n",
    "\n",
    "(Kaggle, 2024)"
   ]
  },
  {
   "cell_type": "markdown",
   "id": "1309afdf-9e78-4010-bee5-af10dabbcc7d",
   "metadata": {},
   "source": [
    "#### B: Panopto Video\n",
    "\n",
    "\n",
    "https://wgu.hosted.panopto.com/Panopto/Pages/Viewer.aspx?id=ba9667e3-7fde-4bce-96cb-b13a002dc58c"
   ]
  },
  {
   "cell_type": "markdown",
   "id": "6960b16d-6580-4747-b077-f441986e5e76",
   "metadata": {},
   "source": [
    "#### C1: Purpose and Function of Dashboard\n",
    "\n",
    "In the age of data-driven decision-making, the ability to visualize and interact with data is invaluable. The dashboard I've developed serves as a window into the complex mechanics of customer churn and demographics, leveraging data from two distinct yet complementary datasets to provide executives with actionable insights.\n",
    "\n",
    "The dashboard's core purpose is to bring the variables defined in the data dictionary to life. For instance, the data dictionary may outline key demographics and churn metrics. my dashboard visualize these variables into visual stories. Through maps, graphs, and KPIs, it doesn't just display data. It makes it speak to the users, ensuring alignment with the emphasis on understanding customer behavior and its impact on revenue."
   ]
  },
  {
   "cell_type": "markdown",
   "id": "4dae88e9-b3b1-4800-9284-9cfaa324d1f1",
   "metadata": {},
   "source": [
    "#### C2: Enhancement by Additional Data\n",
    "\n",
    "By integrating an additional dataset acs2017_census_tract_data, I broaden my analytical horizon. This dataset capturing broader economic factors and service usage patterns, complements the primary churn dataset. It infuses the analysis with depth, allowing me to draw connections between customer churn and income brackets. This really enhanced my understanding of the churn phenomenon.\n",
    "\n",
    "I discovered that customers earning above $80,000 exhibit significantly lower churn rates compared to lower-income brackets. This finding underscores the importance of targeting retention strategies that cater to the value perceptions and lower price sensitivity of affluent customer segments. Furthermore, analysis revealed geographic churn trends, with urban areas showing churn rates 10% higher than suburban and rural areas, likely reflecting the competitive market dynamics and lifestyle demands in these regions.\n",
    "\n",
    "Geographic trends observed through the Churn_Map reveal that churn rates vary by region, which may reflect different market conditions and customer behaviors. For instance, the map allows executives to visualize churn distribution and make informed decisions regarding resource allocation and regional marketing strategies. The dashboard's visualizations from the Tenure_Line_Graph to the scatter plot of monthly charges, enable a multifaceted analysis of churn, directly catering to the executive need for clear, actionable insights from the integrated data."
   ]
  },
  {
   "cell_type": "markdown",
   "id": "1a6b2c9e-0a84-403f-8d9e-f7466047bcb7",
   "metadata": {},
   "source": [
    "#### C3: Data Representations for Decision Making\n",
    "\n",
    "The Churn Map visualization, intended to show customer distribution, it does not directly display churn rates by region as initially indicated. Instead, its true value lies in visualizing areas with dense customer populations. It serves as a precursor to identifying potential churn hotspots. This insight is crucial for executives as it:\n",
    "\n",
    "* Highlights Geographic areas of interest for deeper churn analysis and targeted interventions, suggesting where to deploy customer retention and engagement strategies more effectively.\n",
    "\n",
    "* Aids in Resource Allocation, enabling executives to prioritize marketing and support services in regions with significant customer bases, thereby optimizing the impact of these initiatives.\n",
    "\n",
    "The Tenure_Line_Graph offers a temporal perspective by showing the churn rate over varying customer tenure lengths. This visualization guides executives to pinpoint the tenure stages at which customers are most likely to leave. Such insights can spark the development of timely customer engagement strategies or loyalty programs to reduce churn precisely at those critical tenure milestones."
   ]
  },
  {
   "cell_type": "markdown",
   "id": "e8c657e5-ba13-4c86-a763-aa7d1b7087f6",
   "metadata": {},
   "source": [
    "#### C4: Interactive Controls\n",
    "\n",
    "The dashboard features interactive controls for AGE and States Abbr, allowing users to drill down into demographic segments and geographical areas. These controls transform the dashboard from a static display into a dynamic analytical tool. It enables customized views that target specific queries or hypotheses about churn patterns."
   ]
  },
  {
   "cell_type": "markdown",
   "id": "d36aa2e3-c177-4b75-b960-1ea5859cf8f1",
   "metadata": {},
   "source": [
    "#### C5: Colorblind Accessibility\n",
    "\n",
    "Accessibility was a foundational consideration in the dashboard's design. Knowing the challenges of color vision deficiency. I selected a color palette that maintains its integrity under various forms of colorblindness. Additionally. I selected palette called \"Color Blind\"  and text annotations to ensure that the information is comprehensible regardless of color perception."
   ]
  },
  {
   "cell_type": "markdown",
   "id": "c6afaf5f-c625-47a9-a00d-cf37b982879a",
   "metadata": {},
   "source": [
    "#### C6: Supporting the Narrative\n",
    "\n",
    "The Income_Bar_Graph on my dashboard is a critical for storyteller. It breaks down churn rates across different income brackets, and illustrating a direct relationship between a customer’s income level with their likelihood to churn. This visualization supports the narrative that churn may be influenced by economic factors, where lower-income customers might be more sensitive to price changes and thus more likely to discontinue services. It articulates a part of the churn story where income serves as a predictor of customer retention. It could be a guide for the executives to consider differentiated service offerings or pricing strategies to cater to each income segment.\n",
    "\n",
    "In parallel, the MonthlyCharge_ScatterPlot adds another chapter to our churn story by revealing the relationship between monthly service charges and customer tenure. Clusters of data points show whether higher charges correlate with shorter tenure lengths, suggesting a price threshold beyond which customers are more prone to churn. This plot underscores the need for pricing optimization strategies and highlights the importance of finding the right balance between service value and cost to maintain customer loyalty."
   ]
  },
  {
   "cell_type": "markdown",
   "id": "684079d2-588d-401d-9793-f41c81eea3af",
   "metadata": {},
   "source": [
    "#### C7: Audience Analysis Adaptation\n",
    "\n",
    "Audience analysis revealed that our executive leaders prefer concise, actionable insights rather than intricate data explorations. In response to this, my dashboard was designed to foreground Key Performance Indicators (KPIs) that executives deem most critical. For instance, the Churn Cost and Turn Rate KPIs are placed prominently on the top right of the title. It immediately informs the executives of the financial impact of churn and the rate at which customers are leaving, enabling quick assessment and response.\n",
    "\n",
    "Additionally, the summary visualizations like the Income_Bar_Graph provide a clear and immediate understanding of churn distribution across income levels, addressing the executives’ preference for straightforward visual data representations. Unlike a detailed tabular display, this bar graph offers a snapshot of the data, facilitating swift comprehension and decision-making without necessitating deep dives into raw numbers. The MonthlyCharge_ScatterPlot is another tailored feature that distills complex billing and tenure interactions into an intuitive visualization. This in aligning with the executives’ desire for accessible insights that do not require extensive data analysis background to interpret."
   ]
  },
  {
   "cell_type": "markdown",
   "id": "738f6fa7-53b4-4143-93b4-a2e0d6385d60",
   "metadata": {},
   "source": [
    "#### C8: Universal Design\n",
    "\n",
    "The universal design was not an afterthought, but a starting point. I ensured that the dashboard is navigable via keyboard commands for users with motor impairments and that all text and color is legible for those with visual impairments, providing a universally accessible experience."
   ]
  },
  {
   "cell_type": "markdown",
   "id": "7616ac14-a61b-4019-bf48-e9caa9cf1d4b",
   "metadata": {},
   "source": [
    "#### C9: Storytelling Elements\n",
    "\n",
    "Effective storytelling in my dashboard was achieved through the logical sequencing of visualizations and the inclusion of a narrative data. The sequence leads the viewer from understanding the problem (churn) to its impact (cost). Finally, to potential socio-economic drivers engaging the audience by transforming data points into a story that unfolds with each click or hover."
   ]
  },
  {
   "cell_type": "markdown",
   "id": "aa6c0dc8-d53e-4dcc-ae0c-ccc3c62345de",
   "metadata": {},
   "source": [
    "#### D: Sources\n",
    "\n",
    "(Kaggle, 2024): https://www.kaggle.com/datasets/muonneutrino/us-census-demographic-data"
   ]
  }
 ],
 "metadata": {
  "kernelspec": {
   "display_name": "Python 3 (ipykernel)",
   "language": "python",
   "name": "python3"
  },
  "language_info": {
   "codemirror_mode": {
    "name": "ipython",
    "version": 3
   },
   "file_extension": ".py",
   "mimetype": "text/x-python",
   "name": "python",
   "nbconvert_exporter": "python",
   "pygments_lexer": "ipython3",
   "version": "3.11.1"
  }
 },
 "nbformat": 4,
 "nbformat_minor": 5
}
